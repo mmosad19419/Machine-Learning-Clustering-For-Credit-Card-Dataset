{
 "cells": [
  {
   "cell_type": "markdown",
   "metadata": {
    "id": "IcHSTWeQIOdi"
   },
   "source": [
    "## Clustering for Credit Cards dataset\n",
    "\n",
    "I will apply my knowledge of clustering on the following dataset:\n",
    "\n",
    "Dataset Link:\n",
    "https://www.kaggle.com/datasets/arjunbhasin2013/ccdata\n",
    "\n",
    "Clustering on this dataset will be done using KMeans, Hierarchal clustering and DBSCAN. Finding the optimal hypermaters for each and then choosing the best model among the three"
   ]
  },
  {
   "cell_type": "code",
   "execution_count": 1,
   "metadata": {
    "id": "bY4Uj2sLFOAC"
   },
   "outputs": [],
   "source": [
    "# Start by Importing needed libraries\n",
    "import pandas as pd\n",
    "import numpy as np\n",
    "import matplotlib.pyplot as plt\n",
    "import seaborn as sns\n",
    "\n",
    "# data preprocessing imports\n",
    "from sklearn.impute import KNNImputer\n",
    "from sklearn.preprocessing import StandardScaler\n",
    "from sklearn.neighbors import NearestNeighbors\n",
    "\n",
    "# metrics imports\n",
    "from sklearn.metrics import silhouette_score\n",
    "\n",
    "# model imports\n",
    "from sklearn.cluster import KMeans\n",
    "from sklearn.cluster import AgglomerativeClustering\n",
    "from sklearn.cluster import DBSCAN"
   ]
  },
  {
   "cell_type": "code",
   "execution_count": 2,
   "metadata": {
    "id": "cRlD59_eK16r"
   },
   "outputs": [],
   "source": [
    "# reading the data into df\n",
    "df = pd.read_csv(\"./CC GENERAL.csv\")"
   ]
  },
  {
   "cell_type": "code",
   "execution_count": 3,
   "metadata": {},
   "outputs": [
    {
     "data": {
      "text/plain": [
       "(8950, 18)"
      ]
     },
     "execution_count": 3,
     "metadata": {},
     "output_type": "execute_result"
    }
   ],
   "source": [
    "df.shape"
   ]
  },
  {
   "cell_type": "code",
   "execution_count": 4,
   "metadata": {},
   "outputs": [
    {
     "data": {
      "text/html": [
       "<div>\n",
       "<style scoped>\n",
       "    .dataframe tbody tr th:only-of-type {\n",
       "        vertical-align: middle;\n",
       "    }\n",
       "\n",
       "    .dataframe tbody tr th {\n",
       "        vertical-align: top;\n",
       "    }\n",
       "\n",
       "    .dataframe thead th {\n",
       "        text-align: right;\n",
       "    }\n",
       "</style>\n",
       "<table border=\"1\" class=\"dataframe\">\n",
       "  <thead>\n",
       "    <tr style=\"text-align: right;\">\n",
       "      <th></th>\n",
       "      <th>CUST_ID</th>\n",
       "      <th>BALANCE</th>\n",
       "      <th>BALANCE_FREQUENCY</th>\n",
       "      <th>PURCHASES</th>\n",
       "      <th>ONEOFF_PURCHASES</th>\n",
       "      <th>INSTALLMENTS_PURCHASES</th>\n",
       "      <th>CASH_ADVANCE</th>\n",
       "      <th>PURCHASES_FREQUENCY</th>\n",
       "      <th>ONEOFF_PURCHASES_FREQUENCY</th>\n",
       "      <th>PURCHASES_INSTALLMENTS_FREQUENCY</th>\n",
       "      <th>CASH_ADVANCE_FREQUENCY</th>\n",
       "      <th>CASH_ADVANCE_TRX</th>\n",
       "      <th>PURCHASES_TRX</th>\n",
       "      <th>CREDIT_LIMIT</th>\n",
       "      <th>PAYMENTS</th>\n",
       "      <th>MINIMUM_PAYMENTS</th>\n",
       "      <th>PRC_FULL_PAYMENT</th>\n",
       "      <th>TENURE</th>\n",
       "    </tr>\n",
       "  </thead>\n",
       "  <tbody>\n",
       "    <tr>\n",
       "      <th>0</th>\n",
       "      <td>C10001</td>\n",
       "      <td>40.900749</td>\n",
       "      <td>0.818182</td>\n",
       "      <td>95.40</td>\n",
       "      <td>0.00</td>\n",
       "      <td>95.4</td>\n",
       "      <td>0.000000</td>\n",
       "      <td>0.166667</td>\n",
       "      <td>0.000000</td>\n",
       "      <td>0.083333</td>\n",
       "      <td>0.000000</td>\n",
       "      <td>0</td>\n",
       "      <td>2</td>\n",
       "      <td>1000.0</td>\n",
       "      <td>201.802084</td>\n",
       "      <td>139.509787</td>\n",
       "      <td>0.000000</td>\n",
       "      <td>12</td>\n",
       "    </tr>\n",
       "    <tr>\n",
       "      <th>1</th>\n",
       "      <td>C10002</td>\n",
       "      <td>3202.467416</td>\n",
       "      <td>0.909091</td>\n",
       "      <td>0.00</td>\n",
       "      <td>0.00</td>\n",
       "      <td>0.0</td>\n",
       "      <td>6442.945483</td>\n",
       "      <td>0.000000</td>\n",
       "      <td>0.000000</td>\n",
       "      <td>0.000000</td>\n",
       "      <td>0.250000</td>\n",
       "      <td>4</td>\n",
       "      <td>0</td>\n",
       "      <td>7000.0</td>\n",
       "      <td>4103.032597</td>\n",
       "      <td>1072.340217</td>\n",
       "      <td>0.222222</td>\n",
       "      <td>12</td>\n",
       "    </tr>\n",
       "    <tr>\n",
       "      <th>2</th>\n",
       "      <td>C10003</td>\n",
       "      <td>2495.148862</td>\n",
       "      <td>1.000000</td>\n",
       "      <td>773.17</td>\n",
       "      <td>773.17</td>\n",
       "      <td>0.0</td>\n",
       "      <td>0.000000</td>\n",
       "      <td>1.000000</td>\n",
       "      <td>1.000000</td>\n",
       "      <td>0.000000</td>\n",
       "      <td>0.000000</td>\n",
       "      <td>0</td>\n",
       "      <td>12</td>\n",
       "      <td>7500.0</td>\n",
       "      <td>622.066742</td>\n",
       "      <td>627.284787</td>\n",
       "      <td>0.000000</td>\n",
       "      <td>12</td>\n",
       "    </tr>\n",
       "    <tr>\n",
       "      <th>3</th>\n",
       "      <td>C10004</td>\n",
       "      <td>1666.670542</td>\n",
       "      <td>0.636364</td>\n",
       "      <td>1499.00</td>\n",
       "      <td>1499.00</td>\n",
       "      <td>0.0</td>\n",
       "      <td>205.788017</td>\n",
       "      <td>0.083333</td>\n",
       "      <td>0.083333</td>\n",
       "      <td>0.000000</td>\n",
       "      <td>0.083333</td>\n",
       "      <td>1</td>\n",
       "      <td>1</td>\n",
       "      <td>7500.0</td>\n",
       "      <td>0.000000</td>\n",
       "      <td>NaN</td>\n",
       "      <td>0.000000</td>\n",
       "      <td>12</td>\n",
       "    </tr>\n",
       "    <tr>\n",
       "      <th>4</th>\n",
       "      <td>C10005</td>\n",
       "      <td>817.714335</td>\n",
       "      <td>1.000000</td>\n",
       "      <td>16.00</td>\n",
       "      <td>16.00</td>\n",
       "      <td>0.0</td>\n",
       "      <td>0.000000</td>\n",
       "      <td>0.083333</td>\n",
       "      <td>0.083333</td>\n",
       "      <td>0.000000</td>\n",
       "      <td>0.000000</td>\n",
       "      <td>0</td>\n",
       "      <td>1</td>\n",
       "      <td>1200.0</td>\n",
       "      <td>678.334763</td>\n",
       "      <td>244.791237</td>\n",
       "      <td>0.000000</td>\n",
       "      <td>12</td>\n",
       "    </tr>\n",
       "  </tbody>\n",
       "</table>\n",
       "</div>"
      ],
      "text/plain": [
       "  CUST_ID      BALANCE  BALANCE_FREQUENCY  PURCHASES  ONEOFF_PURCHASES  \\\n",
       "0  C10001    40.900749           0.818182      95.40              0.00   \n",
       "1  C10002  3202.467416           0.909091       0.00              0.00   \n",
       "2  C10003  2495.148862           1.000000     773.17            773.17   \n",
       "3  C10004  1666.670542           0.636364    1499.00           1499.00   \n",
       "4  C10005   817.714335           1.000000      16.00             16.00   \n",
       "\n",
       "   INSTALLMENTS_PURCHASES  CASH_ADVANCE  PURCHASES_FREQUENCY  \\\n",
       "0                    95.4      0.000000             0.166667   \n",
       "1                     0.0   6442.945483             0.000000   \n",
       "2                     0.0      0.000000             1.000000   \n",
       "3                     0.0    205.788017             0.083333   \n",
       "4                     0.0      0.000000             0.083333   \n",
       "\n",
       "   ONEOFF_PURCHASES_FREQUENCY  PURCHASES_INSTALLMENTS_FREQUENCY  \\\n",
       "0                    0.000000                          0.083333   \n",
       "1                    0.000000                          0.000000   \n",
       "2                    1.000000                          0.000000   \n",
       "3                    0.083333                          0.000000   \n",
       "4                    0.083333                          0.000000   \n",
       "\n",
       "   CASH_ADVANCE_FREQUENCY  CASH_ADVANCE_TRX  PURCHASES_TRX  CREDIT_LIMIT  \\\n",
       "0                0.000000                 0              2        1000.0   \n",
       "1                0.250000                 4              0        7000.0   \n",
       "2                0.000000                 0             12        7500.0   \n",
       "3                0.083333                 1              1        7500.0   \n",
       "4                0.000000                 0              1        1200.0   \n",
       "\n",
       "      PAYMENTS  MINIMUM_PAYMENTS  PRC_FULL_PAYMENT  TENURE  \n",
       "0   201.802084        139.509787          0.000000      12  \n",
       "1  4103.032597       1072.340217          0.222222      12  \n",
       "2   622.066742        627.284787          0.000000      12  \n",
       "3     0.000000               NaN          0.000000      12  \n",
       "4   678.334763        244.791237          0.000000      12  "
      ]
     },
     "execution_count": 4,
     "metadata": {},
     "output_type": "execute_result"
    }
   ],
   "source": [
    "df.head()"
   ]
  },
  {
   "cell_type": "markdown",
   "metadata": {},
   "source": [
    "### About the Dataset:\n",
    "This case requires to develop a customer segmentation to define marketing strategy. Thesample Dataset summarizes the usage behavior of about 9000 active credit card holders during the last 6 months. The file is at a customer level with 18 behavioral variables.\n",
    "\n",
    "\n",
    "#### Following is the Data Dictionary for Credit Card dataset :-\n",
    "`CUSTID` : Identification of Credit Card holder.\n",
    "\n",
    "`BALANCE` : Balance amount left in their account to make purchases.\n",
    "\n",
    "`BALANCEFREQUENCY` : How frequently the Balance is updated, score between 0 and 1 (1 = frequently updated, 0 = not frequently updated). \n",
    "\n",
    "`PURCHASES` : Amount of purchases made from account.\n",
    "\n",
    "`ONEOFFPURCHASES` : Maximum purchase amount done in one-go.\n",
    "\n",
    "`INSTALLMENTSPURCHASES` : Amount of purchase done in installment.\n",
    "\n",
    "`CASHADVANCE` : Cash in advance given by the user.\n",
    "\n",
    "`PURCHASESFREQUENCY` : How frequently the Purchases are being made, score between 0 and 1 (1 = frequently purchased, 0 = not frequently purchased).\n",
    "\n",
    "`ONEOFFPURCHASESFREQUENCY` : How frequently Purchases are happening in one-go (1 = frequently purchased, 0 = not frequently purchased).\n",
    "\n",
    "`PURCHASESINSTALLMENTSFREQUENCY` : How frequently purchases in installments are being done (1 = frequently done, 0 = not frequently done).\n",
    "\n",
    "`CASHADVANCEFREQUENCY` : How frequently the cash in advance being paid (1 = frequently paid, 0 = not frequently paid).\n",
    "\n",
    "`CASHADVANCETRX` : Number of Transactions made with \"Cash in Advanced\".\n",
    "\n",
    "`PURCHASESTRX` : Numbe of purchase transactions made.\n",
    "\n",
    "`CREDITLIMIT` : Limit of Credit Card for user\n",
    "\n",
    "`PAYMENTS` : Amount of Payment done by user.\n",
    "\n",
    "`MINIMUM_PAYMENTS` : Minimum amount of payments made by user.\n",
    "\n",
    "`PRCFULLPAYMENT` : Percent of full payment paid by user.\n",
    "\n",
    "`TENURE` : Tenure of credit card service for user."
   ]
  },
  {
   "cell_type": "code",
   "execution_count": 5,
   "metadata": {},
   "outputs": [],
   "source": [
    "# make all column name lower case\n",
    "df.columns = df.columns.str.lower()"
   ]
  },
  {
   "cell_type": "code",
   "execution_count": 6,
   "metadata": {},
   "outputs": [
    {
     "name": "stdout",
     "output_type": "stream",
     "text": [
      "<class 'pandas.core.frame.DataFrame'>\n",
      "RangeIndex: 8950 entries, 0 to 8949\n",
      "Data columns (total 18 columns):\n",
      " #   Column                            Non-Null Count  Dtype  \n",
      "---  ------                            --------------  -----  \n",
      " 0   cust_id                           8950 non-null   object \n",
      " 1   balance                           8950 non-null   float64\n",
      " 2   balance_frequency                 8950 non-null   float64\n",
      " 3   purchases                         8950 non-null   float64\n",
      " 4   oneoff_purchases                  8950 non-null   float64\n",
      " 5   installments_purchases            8950 non-null   float64\n",
      " 6   cash_advance                      8950 non-null   float64\n",
      " 7   purchases_frequency               8950 non-null   float64\n",
      " 8   oneoff_purchases_frequency        8950 non-null   float64\n",
      " 9   purchases_installments_frequency  8950 non-null   float64\n",
      " 10  cash_advance_frequency            8950 non-null   float64\n",
      " 11  cash_advance_trx                  8950 non-null   int64  \n",
      " 12  purchases_trx                     8950 non-null   int64  \n",
      " 13  credit_limit                      8949 non-null   float64\n",
      " 14  payments                          8950 non-null   float64\n",
      " 15  minimum_payments                  8637 non-null   float64\n",
      " 16  prc_full_payment                  8950 non-null   float64\n",
      " 17  tenure                            8950 non-null   int64  \n",
      "dtypes: float64(14), int64(3), object(1)\n",
      "memory usage: 1.2+ MB\n"
     ]
    }
   ],
   "source": [
    "# get the df info\n",
    "df.info()"
   ]
  },
  {
   "cell_type": "code",
   "execution_count": 7,
   "metadata": {},
   "outputs": [],
   "source": [
    "# update columns name to have more explicit meaning\n",
    "df.rename(columns={\"cash_advance_trx\":\"cash_advance_transactions\", \"purchases_trx\":\"purchases_transactions\",\n",
    "                   \"payments\":\"payments_done\", \"prc_full_payment\":\"percent_full_payment\"}, inplace = True)"
   ]
  },
  {
   "cell_type": "code",
   "execution_count": 8,
   "metadata": {},
   "outputs": [
    {
     "data": {
      "text/plain": [
       "Index(['cust_id', 'balance', 'balance_frequency', 'purchases',\n",
       "       'oneoff_purchases', 'installments_purchases', 'cash_advance',\n",
       "       'purchases_frequency', 'oneoff_purchases_frequency',\n",
       "       'purchases_installments_frequency', 'cash_advance_frequency',\n",
       "       'cash_advance_transactions', 'purchases_transactions', 'credit_limit',\n",
       "       'payments_done', 'minimum_payments', 'percent_full_payment', 'tenure'],\n",
       "      dtype='object')"
      ]
     },
     "execution_count": 8,
     "metadata": {},
     "output_type": "execute_result"
    }
   ],
   "source": [
    "df.columns"
   ]
  },
  {
   "cell_type": "code",
   "execution_count": 9,
   "metadata": {},
   "outputs": [],
   "source": [
    "# drop the identification columns\n",
    "df.drop(\"cust_id\", inplace = True, axis = 1)"
   ]
  },
  {
   "cell_type": "markdown",
   "metadata": {},
   "source": [
    "### Data Completness"
   ]
  },
  {
   "cell_type": "code",
   "execution_count": 10,
   "metadata": {},
   "outputs": [
    {
     "data": {
      "text/plain": [
       "balance                               0\n",
       "balance_frequency                     0\n",
       "purchases                             0\n",
       "oneoff_purchases                      0\n",
       "installments_purchases                0\n",
       "cash_advance                          0\n",
       "purchases_frequency                   0\n",
       "oneoff_purchases_frequency            0\n",
       "purchases_installments_frequency      0\n",
       "cash_advance_frequency                0\n",
       "cash_advance_transactions             0\n",
       "purchases_transactions                0\n",
       "credit_limit                          1\n",
       "payments_done                         0\n",
       "minimum_payments                    313\n",
       "percent_full_payment                  0\n",
       "tenure                                0\n",
       "dtype: int64"
      ]
     },
     "execution_count": 10,
     "metadata": {},
     "output_type": "execute_result"
    }
   ],
   "source": [
    "# null values count\n",
    "df.isnull().sum()"
   ]
  },
  {
   "cell_type": "code",
   "execution_count": 11,
   "metadata": {},
   "outputs": [],
   "source": [
    "# percentages of null values \n",
    "def null_percent(df):\n",
    "    # init the list of (column_index, null percentage)\n",
    "    percent_list = []\n",
    "    \n",
    "    # get a list of the null counts\n",
    "    null_count = df.isnull().sum().values\n",
    "    \n",
    "    # get the total count of the observations\n",
    "    total_count = df.shape[0]\n",
    "    \n",
    "    # calulate the null percentages\n",
    "    for i in range(len(null_count)):\n",
    "        null_percent = round(null_count[i] / total_count, 2)\n",
    "        \n",
    "        percent_list.append((i, null_percent))\n",
    "        \n",
    "    return percent_list"
   ]
  },
  {
   "cell_type": "code",
   "execution_count": 12,
   "metadata": {},
   "outputs": [
    {
     "name": "stdout",
     "output_type": "stream",
     "text": [
      "[(0, 0.0), (1, 0.0), (2, 0.0), (3, 0.0), (4, 0.0), (5, 0.0), (6, 0.0), (7, 0.0), (8, 0.0), (9, 0.0), (10, 0.0), (11, 0.0), (12, 0.0), (13, 0.0), (14, 0.03), (15, 0.0), (16, 0.0)]\n"
     ]
    }
   ],
   "source": [
    "# print the null percentages\n",
    "print(null_percent(df))"
   ]
  },
  {
   "cell_type": "code",
   "execution_count": 13,
   "metadata": {},
   "outputs": [],
   "source": [
    "\"\"\"\n",
    "Drop the null values as it represent small percentage of our data to not affect the model\n",
    "\"\"\"\n",
    "df.dropna(inplace = True)"
   ]
  },
  {
   "cell_type": "code",
   "execution_count": 14,
   "metadata": {},
   "outputs": [
    {
     "data": {
      "text/plain": [
       "0"
      ]
     },
     "execution_count": 14,
     "metadata": {},
     "output_type": "execute_result"
    }
   ],
   "source": [
    "# check for null values\n",
    "df.isnull().sum().sum()"
   ]
  },
  {
   "cell_type": "markdown",
   "metadata": {},
   "source": [
    "### Data Exploration"
   ]
  },
  {
   "cell_type": "code",
   "execution_count": 15,
   "metadata": {},
   "outputs": [
    {
     "data": {
      "text/html": [
       "<div>\n",
       "<style scoped>\n",
       "    .dataframe tbody tr th:only-of-type {\n",
       "        vertical-align: middle;\n",
       "    }\n",
       "\n",
       "    .dataframe tbody tr th {\n",
       "        vertical-align: top;\n",
       "    }\n",
       "\n",
       "    .dataframe thead th {\n",
       "        text-align: right;\n",
       "    }\n",
       "</style>\n",
       "<table border=\"1\" class=\"dataframe\">\n",
       "  <thead>\n",
       "    <tr style=\"text-align: right;\">\n",
       "      <th></th>\n",
       "      <th>balance</th>\n",
       "      <th>balance_frequency</th>\n",
       "      <th>purchases</th>\n",
       "      <th>oneoff_purchases</th>\n",
       "      <th>installments_purchases</th>\n",
       "      <th>cash_advance</th>\n",
       "      <th>purchases_frequency</th>\n",
       "      <th>oneoff_purchases_frequency</th>\n",
       "      <th>purchases_installments_frequency</th>\n",
       "      <th>cash_advance_frequency</th>\n",
       "      <th>cash_advance_transactions</th>\n",
       "      <th>purchases_transactions</th>\n",
       "      <th>credit_limit</th>\n",
       "      <th>payments_done</th>\n",
       "      <th>minimum_payments</th>\n",
       "      <th>percent_full_payment</th>\n",
       "      <th>tenure</th>\n",
       "    </tr>\n",
       "  </thead>\n",
       "  <tbody>\n",
       "    <tr>\n",
       "      <th>count</th>\n",
       "      <td>8636.000000</td>\n",
       "      <td>8636.000000</td>\n",
       "      <td>8636.000000</td>\n",
       "      <td>8636.000000</td>\n",
       "      <td>8636.000000</td>\n",
       "      <td>8636.000000</td>\n",
       "      <td>8636.000000</td>\n",
       "      <td>8636.000000</td>\n",
       "      <td>8636.000000</td>\n",
       "      <td>8636.000000</td>\n",
       "      <td>8636.000000</td>\n",
       "      <td>8636.000000</td>\n",
       "      <td>8636.000000</td>\n",
       "      <td>8636.000000</td>\n",
       "      <td>8636.000000</td>\n",
       "      <td>8636.000000</td>\n",
       "      <td>8636.000000</td>\n",
       "    </tr>\n",
       "    <tr>\n",
       "      <th>mean</th>\n",
       "      <td>1601.224893</td>\n",
       "      <td>0.895035</td>\n",
       "      <td>1025.433874</td>\n",
       "      <td>604.901438</td>\n",
       "      <td>420.843533</td>\n",
       "      <td>994.175523</td>\n",
       "      <td>0.496000</td>\n",
       "      <td>0.205909</td>\n",
       "      <td>0.368820</td>\n",
       "      <td>0.137604</td>\n",
       "      <td>3.313918</td>\n",
       "      <td>15.033233</td>\n",
       "      <td>4522.091030</td>\n",
       "      <td>1784.478099</td>\n",
       "      <td>864.304943</td>\n",
       "      <td>0.159304</td>\n",
       "      <td>11.534391</td>\n",
       "    </tr>\n",
       "    <tr>\n",
       "      <th>std</th>\n",
       "      <td>2095.571300</td>\n",
       "      <td>0.207697</td>\n",
       "      <td>2167.107984</td>\n",
       "      <td>1684.307803</td>\n",
       "      <td>917.245182</td>\n",
       "      <td>2121.458303</td>\n",
       "      <td>0.401273</td>\n",
       "      <td>0.300054</td>\n",
       "      <td>0.398093</td>\n",
       "      <td>0.201791</td>\n",
       "      <td>6.912506</td>\n",
       "      <td>25.180468</td>\n",
       "      <td>3659.240379</td>\n",
       "      <td>2909.810090</td>\n",
       "      <td>2372.566350</td>\n",
       "      <td>0.296271</td>\n",
       "      <td>1.310984</td>\n",
       "    </tr>\n",
       "    <tr>\n",
       "      <th>min</th>\n",
       "      <td>0.000000</td>\n",
       "      <td>0.000000</td>\n",
       "      <td>0.000000</td>\n",
       "      <td>0.000000</td>\n",
       "      <td>0.000000</td>\n",
       "      <td>0.000000</td>\n",
       "      <td>0.000000</td>\n",
       "      <td>0.000000</td>\n",
       "      <td>0.000000</td>\n",
       "      <td>0.000000</td>\n",
       "      <td>0.000000</td>\n",
       "      <td>0.000000</td>\n",
       "      <td>50.000000</td>\n",
       "      <td>0.049513</td>\n",
       "      <td>0.019163</td>\n",
       "      <td>0.000000</td>\n",
       "      <td>6.000000</td>\n",
       "    </tr>\n",
       "    <tr>\n",
       "      <th>25%</th>\n",
       "      <td>148.095189</td>\n",
       "      <td>0.909091</td>\n",
       "      <td>43.367500</td>\n",
       "      <td>0.000000</td>\n",
       "      <td>0.000000</td>\n",
       "      <td>0.000000</td>\n",
       "      <td>0.083333</td>\n",
       "      <td>0.000000</td>\n",
       "      <td>0.000000</td>\n",
       "      <td>0.000000</td>\n",
       "      <td>0.000000</td>\n",
       "      <td>1.000000</td>\n",
       "      <td>1600.000000</td>\n",
       "      <td>418.559237</td>\n",
       "      <td>169.163545</td>\n",
       "      <td>0.000000</td>\n",
       "      <td>12.000000</td>\n",
       "    </tr>\n",
       "    <tr>\n",
       "      <th>50%</th>\n",
       "      <td>916.855459</td>\n",
       "      <td>1.000000</td>\n",
       "      <td>375.405000</td>\n",
       "      <td>44.995000</td>\n",
       "      <td>94.785000</td>\n",
       "      <td>0.000000</td>\n",
       "      <td>0.500000</td>\n",
       "      <td>0.083333</td>\n",
       "      <td>0.166667</td>\n",
       "      <td>0.000000</td>\n",
       "      <td>0.000000</td>\n",
       "      <td>7.000000</td>\n",
       "      <td>3000.000000</td>\n",
       "      <td>896.675701</td>\n",
       "      <td>312.452292</td>\n",
       "      <td>0.000000</td>\n",
       "      <td>12.000000</td>\n",
       "    </tr>\n",
       "    <tr>\n",
       "      <th>75%</th>\n",
       "      <td>2105.195853</td>\n",
       "      <td>1.000000</td>\n",
       "      <td>1145.980000</td>\n",
       "      <td>599.100000</td>\n",
       "      <td>484.147500</td>\n",
       "      <td>1132.385490</td>\n",
       "      <td>0.916667</td>\n",
       "      <td>0.333333</td>\n",
       "      <td>0.750000</td>\n",
       "      <td>0.250000</td>\n",
       "      <td>4.000000</td>\n",
       "      <td>18.000000</td>\n",
       "      <td>6500.000000</td>\n",
       "      <td>1951.142090</td>\n",
       "      <td>825.496463</td>\n",
       "      <td>0.166667</td>\n",
       "      <td>12.000000</td>\n",
       "    </tr>\n",
       "    <tr>\n",
       "      <th>max</th>\n",
       "      <td>19043.138560</td>\n",
       "      <td>1.000000</td>\n",
       "      <td>49039.570000</td>\n",
       "      <td>40761.250000</td>\n",
       "      <td>22500.000000</td>\n",
       "      <td>47137.211760</td>\n",
       "      <td>1.000000</td>\n",
       "      <td>1.000000</td>\n",
       "      <td>1.000000</td>\n",
       "      <td>1.500000</td>\n",
       "      <td>123.000000</td>\n",
       "      <td>358.000000</td>\n",
       "      <td>30000.000000</td>\n",
       "      <td>50721.483360</td>\n",
       "      <td>76406.207520</td>\n",
       "      <td>1.000000</td>\n",
       "      <td>12.000000</td>\n",
       "    </tr>\n",
       "  </tbody>\n",
       "</table>\n",
       "</div>"
      ],
      "text/plain": [
       "            balance  balance_frequency     purchases  oneoff_purchases  \\\n",
       "count   8636.000000        8636.000000   8636.000000       8636.000000   \n",
       "mean    1601.224893           0.895035   1025.433874        604.901438   \n",
       "std     2095.571300           0.207697   2167.107984       1684.307803   \n",
       "min        0.000000           0.000000      0.000000          0.000000   \n",
       "25%      148.095189           0.909091     43.367500          0.000000   \n",
       "50%      916.855459           1.000000    375.405000         44.995000   \n",
       "75%     2105.195853           1.000000   1145.980000        599.100000   \n",
       "max    19043.138560           1.000000  49039.570000      40761.250000   \n",
       "\n",
       "       installments_purchases  cash_advance  purchases_frequency  \\\n",
       "count             8636.000000   8636.000000          8636.000000   \n",
       "mean               420.843533    994.175523             0.496000   \n",
       "std                917.245182   2121.458303             0.401273   \n",
       "min                  0.000000      0.000000             0.000000   \n",
       "25%                  0.000000      0.000000             0.083333   \n",
       "50%                 94.785000      0.000000             0.500000   \n",
       "75%                484.147500   1132.385490             0.916667   \n",
       "max              22500.000000  47137.211760             1.000000   \n",
       "\n",
       "       oneoff_purchases_frequency  purchases_installments_frequency  \\\n",
       "count                 8636.000000                       8636.000000   \n",
       "mean                     0.205909                          0.368820   \n",
       "std                      0.300054                          0.398093   \n",
       "min                      0.000000                          0.000000   \n",
       "25%                      0.000000                          0.000000   \n",
       "50%                      0.083333                          0.166667   \n",
       "75%                      0.333333                          0.750000   \n",
       "max                      1.000000                          1.000000   \n",
       "\n",
       "       cash_advance_frequency  cash_advance_transactions  \\\n",
       "count             8636.000000                8636.000000   \n",
       "mean                 0.137604                   3.313918   \n",
       "std                  0.201791                   6.912506   \n",
       "min                  0.000000                   0.000000   \n",
       "25%                  0.000000                   0.000000   \n",
       "50%                  0.000000                   0.000000   \n",
       "75%                  0.250000                   4.000000   \n",
       "max                  1.500000                 123.000000   \n",
       "\n",
       "       purchases_transactions  credit_limit  payments_done  minimum_payments  \\\n",
       "count             8636.000000   8636.000000    8636.000000       8636.000000   \n",
       "mean                15.033233   4522.091030    1784.478099        864.304943   \n",
       "std                 25.180468   3659.240379    2909.810090       2372.566350   \n",
       "min                  0.000000     50.000000       0.049513          0.019163   \n",
       "25%                  1.000000   1600.000000     418.559237        169.163545   \n",
       "50%                  7.000000   3000.000000     896.675701        312.452292   \n",
       "75%                 18.000000   6500.000000    1951.142090        825.496463   \n",
       "max                358.000000  30000.000000   50721.483360      76406.207520   \n",
       "\n",
       "       percent_full_payment       tenure  \n",
       "count           8636.000000  8636.000000  \n",
       "mean               0.159304    11.534391  \n",
       "std                0.296271     1.310984  \n",
       "min                0.000000     6.000000  \n",
       "25%                0.000000    12.000000  \n",
       "50%                0.000000    12.000000  \n",
       "75%                0.166667    12.000000  \n",
       "max                1.000000    12.000000  "
      ]
     },
     "execution_count": 15,
     "metadata": {},
     "output_type": "execute_result"
    }
   ],
   "source": [
    "# Get the summary Statistics values\n",
    "summary_stats = pd.DataFrame(df.describe())\n",
    "summary_stats"
   ]
  },
  {
   "cell_type": "code",
   "execution_count": 16,
   "metadata": {},
   "outputs": [],
   "source": [
    "# most of the feature are balance and purchase related  feature / frequency related feature\n",
    "# create two bins for balance and frequency\n",
    "\n",
    "# freq bin size = .1 as its value range from 0 --> 1\n",
    "freq_bins = np.arange(0, 1.1, .1)\n",
    "# balance bin size = 1000 as its value range from 0 --> 20000\n",
    "balance_bins = np.arange(0, 20000, 1000)\n",
    "\n",
    "# tenture bins bin size = 1 as its value range from 0 --> 12\n",
    "tenure_bins = np.arange(0, 13, 1)\n",
    "\n",
    "# create the custmized histogram function\n",
    "def hist(df, variable, bins):\n",
    "    sns.displot(data = df, x = variable, bins = bins);"
   ]
  },
  {
   "cell_type": "code",
   "execution_count": 17,
   "metadata": {},
   "outputs": [
    {
     "data": {
      "image/png": "[encoded data removed]",
      "text/plain": [
       "<Figure size 360x360 with 1 Axes>"
      ]
     },
     "metadata": {
      "needs_background": "light"
     },
     "output_type": "display_data"
    }
   ],
   "source": [
    "# explore balance distribution\n",
    "hist(df, \"balance\", balance_bins)"
   ]
  },
  {
   "cell_type": "markdown",
   "metadata": {},
   "source": [
    "In balance Feature the data is very positivly skewed, means the most of the data point have low balence amount\n",
    ", I will minimize the bins size for more investigation."
   ]
  },
  {
   "cell_type": "code",
   "execution_count": 18,
   "metadata": {},
   "outputs": [
    {
     "data": {
      "image/png": "[encoded data removed]",
      "text/plain": [
       "<Figure size 360x360 with 1 Axes>"
      ]
     },
     "metadata": {
      "needs_background": "light"
     },
     "output_type": "display_data"
    }
   ],
   "source": [
    "# investigate the balance column with smaller bin sizes\n",
    "balance_bins_small = np.arange(0, 20000, 500)\n",
    "hist(df, \"balance\", balance_bins_small)"
   ]
  },
  {
   "cell_type": "markdown",
   "metadata": {},
   "source": [
    "We have alot of values lower than 500, using box plot to explore outliers"
   ]
  },
  {
   "cell_type": "code",
   "execution_count": 19,
   "metadata": {},
   "outputs": [],
   "source": [
    "# investigate the balence feature using box plot\n",
    "# def custom boxplot function\n",
    "def boxplot(df_variable):\n",
    "    plt.figure(figsize=(15,10))\n",
    "    sns.boxplot(data = df_variable, orient = \"h\")"
   ]
  },
  {
   "cell_type": "code",
   "execution_count": 20,
   "metadata": {},
   "outputs": [
    {
     "data": {
      "image/png": "[encoded data removed]",
      "text/plain": [
       "<Figure size 1080x720 with 1 Axes>"
      ]
     },
     "metadata": {
      "needs_background": "light"
     },
     "output_type": "display_data"
    }
   ],
   "source": [
    "boxplot(df.balance)"
   ]
  },
  {
   "cell_type": "code",
   "execution_count": 21,
   "metadata": {},
   "outputs": [],
   "source": [
    "# define a function for outliers analysis\n",
    "def outliers_analysis(df, variable, summary_stats_df):\n",
    "    # get the box highest whisker value\n",
    "    IQR_balance = summary_stats[\"{}\".format(variable)].loc[\"75%\"] - summary_stats[\"{}\".format(variable)].loc[\"25%\"]\n",
    "    box_highest_whisker = round(IQR_balance * 1.5, 2)\n",
    "    \n",
    "    # get the summary statistics for balance outliers values\n",
    "    variable_outliers = df[df[\"{}\".format(variable)] > box_highest_whisker][\"{}\".format(variable)]\n",
    "    outliers_summary = pd.DataFrame(variable_outliers.describe())\n",
    "    \n",
    "    # get the outliers unique occurance values\n",
    "    unique_occurance_values = variable_outliers.value_counts().unique()\n",
    "    \n",
    "    # return the summary df and list of unique observation values\n",
    "    return outliers_summary, unique_occurance_values"
   ]
  },
  {
   "cell_type": "code",
   "execution_count": 22,
   "metadata": {},
   "outputs": [],
   "source": [
    "balance_outlier_summary, balance_outliers_observations_count = outliers_analysis(df, \"balance\", summary_stats)"
   ]
  },
  {
   "cell_type": "code",
   "execution_count": 23,
   "metadata": {},
   "outputs": [
    {
     "data": {
      "text/html": [
       "<div>\n",
       "<style scoped>\n",
       "    .dataframe tbody tr th:only-of-type {\n",
       "        vertical-align: middle;\n",
       "    }\n",
       "\n",
       "    .dataframe tbody tr th {\n",
       "        vertical-align: top;\n",
       "    }\n",
       "\n",
       "    .dataframe thead th {\n",
       "        text-align: right;\n",
       "    }\n",
       "</style>\n",
       "<table border=\"1\" class=\"dataframe\">\n",
       "  <thead>\n",
       "    <tr style=\"text-align: right;\">\n",
       "      <th></th>\n",
       "      <th>balance</th>\n",
       "    </tr>\n",
       "  </thead>\n",
       "  <tbody>\n",
       "    <tr>\n",
       "      <th>count</th>\n",
       "      <td>1465.000000</td>\n",
       "    </tr>\n",
       "    <tr>\n",
       "      <th>mean</th>\n",
       "      <td>5404.604373</td>\n",
       "    </tr>\n",
       "    <tr>\n",
       "      <th>std</th>\n",
       "      <td>2297.671790</td>\n",
       "    </tr>\n",
       "    <tr>\n",
       "      <th>min</th>\n",
       "      <td>2936.438250</td>\n",
       "    </tr>\n",
       "    <tr>\n",
       "      <th>25%</th>\n",
       "      <td>3714.539663</td>\n",
       "    </tr>\n",
       "    <tr>\n",
       "      <th>50%</th>\n",
       "      <td>4784.708882</td>\n",
       "    </tr>\n",
       "    <tr>\n",
       "      <th>75%</th>\n",
       "      <td>6388.108487</td>\n",
       "    </tr>\n",
       "    <tr>\n",
       "      <th>max</th>\n",
       "      <td>19043.138560</td>\n",
       "    </tr>\n",
       "  </tbody>\n",
       "</table>\n",
       "</div>"
      ],
      "text/plain": [
       "            balance\n",
       "count   1465.000000\n",
       "mean    5404.604373\n",
       "std     2297.671790\n",
       "min     2936.438250\n",
       "25%     3714.539663\n",
       "50%     4784.708882\n",
       "75%     6388.108487\n",
       "max    19043.138560"
      ]
     },
     "execution_count": 23,
     "metadata": {},
     "output_type": "execute_result"
    }
   ],
   "source": [
    "balance_outlier_summary"
   ]
  },
  {
   "cell_type": "code",
   "execution_count": 24,
   "metadata": {},
   "outputs": [
    {
     "data": {
      "text/plain": [
       "array([1], dtype=int64)"
      ]
     },
     "execution_count": 24,
     "metadata": {},
     "output_type": "execute_result"
    }
   ],
   "source": [
    "balance_outliers_observations_count"
   ]
  },
  {
   "cell_type": "markdown",
   "metadata": {},
   "source": [
    "- Outliers count = 1465 means it form a relatively big group of the data points\n",
    "- From outliers summary after the Third Quartile [75%],in the fourth Quartile we have extreme outliers vary by nearly __13000__\n",
    "- All of the outliers, has 1 time observation for each value"
   ]
  },
  {
   "cell_type": "code",
   "execution_count": 25,
   "metadata": {},
   "outputs": [
    {
     "data": {
      "image/png": "[encoded data removed]",
      "text/plain": [
       "<Figure size 360x360 with 1 Axes>"
      ]
     },
     "metadata": {
      "needs_background": "light"
     },
     "output_type": "display_data"
    }
   ],
   "source": [
    "# explore balance distribution\n",
    "hist(df, \"balance_frequency\", freq_bins)"
   ]
  },
  {
   "cell_type": "markdown",
   "metadata": {},
   "source": [
    "From balance_frequency feature distribution, most of the accounts'balance is frequently updated"
   ]
  },
  {
   "cell_type": "code",
   "execution_count": 26,
   "metadata": {},
   "outputs": [
    {
     "data": {
      "image/png": "[encoded data removed]",
      "text/plain": [
       "<Figure size 360x360 with 1 Axes>"
      ]
     },
     "metadata": {
      "needs_background": "light"
     },
     "output_type": "display_data"
    }
   ],
   "source": [
    "# explore purchases distribution \n",
    "hist(df, \"purchases\", balance_bins)"
   ]
  },
  {
   "cell_type": "markdown",
   "metadata": {},
   "source": [
    "Purchases has the same distribution shape as balance, investigate more with smaller bins and boxplot"
   ]
  },
  {
   "cell_type": "code",
   "execution_count": 27,
   "metadata": {},
   "outputs": [
    {
     "data": {
      "image/png": "[encoded data removed]",
      "text/plain": [
       "<Figure size 360x360 with 1 Axes>"
      ]
     },
     "metadata": {
      "needs_background": "light"
     },
     "output_type": "display_data"
    }
   ],
   "source": [
    "# explore purchases distribution with smaller bin size\n",
    "hist(df, \"purchases\", balance_bins_small)"
   ]
  },
  {
   "cell_type": "markdown",
   "metadata": {},
   "source": [
    "Here also we have many observations below 500, more investigation with box plot"
   ]
  },
  {
   "cell_type": "code",
   "execution_count": 28,
   "metadata": {},
   "outputs": [
    {
     "data": {
      "image/png": "[encoded data removed]",
      "text/plain": [
       "<Figure size 1080x720 with 1 Axes>"
      ]
     },
     "metadata": {
      "needs_background": "light"
     },
     "output_type": "display_data"
    }
   ],
   "source": [
    "# explore purchases distribution with boxplot\n",
    "boxplot(df.purchases)"
   ]
  },
  {
   "cell_type": "code",
   "execution_count": 29,
   "metadata": {},
   "outputs": [],
   "source": [
    "# outlier analysis for purchases features\n",
    "purchases_outlier_summary, purchases_outliers_observations_count = outliers_analysis(df, \"purchases\", summary_stats)"
   ]
  },
  {
   "cell_type": "code",
   "execution_count": 30,
   "metadata": {},
   "outputs": [
    {
     "data": {
      "text/html": [
       "<div>\n",
       "<style scoped>\n",
       "    .dataframe tbody tr th:only-of-type {\n",
       "        vertical-align: middle;\n",
       "    }\n",
       "\n",
       "    .dataframe tbody tr th {\n",
       "        vertical-align: top;\n",
       "    }\n",
       "\n",
       "    .dataframe thead th {\n",
       "        text-align: right;\n",
       "    }\n",
       "</style>\n",
       "<table border=\"1\" class=\"dataframe\">\n",
       "  <thead>\n",
       "    <tr style=\"text-align: right;\">\n",
       "      <th></th>\n",
       "      <th>purchases</th>\n",
       "    </tr>\n",
       "  </thead>\n",
       "  <tbody>\n",
       "    <tr>\n",
       "      <th>count</th>\n",
       "      <td>1513.000000</td>\n",
       "    </tr>\n",
       "    <tr>\n",
       "      <th>mean</th>\n",
       "      <td>4004.261335</td>\n",
       "    </tr>\n",
       "    <tr>\n",
       "      <th>std</th>\n",
       "      <td>3892.903652</td>\n",
       "    </tr>\n",
       "    <tr>\n",
       "      <th>min</th>\n",
       "      <td>1654.940000</td>\n",
       "    </tr>\n",
       "    <tr>\n",
       "      <th>25%</th>\n",
       "      <td>2118.660000</td>\n",
       "    </tr>\n",
       "    <tr>\n",
       "      <th>50%</th>\n",
       "      <td>2823.800000</td>\n",
       "    </tr>\n",
       "    <tr>\n",
       "      <th>75%</th>\n",
       "      <td>4378.800000</td>\n",
       "    </tr>\n",
       "    <tr>\n",
       "      <th>max</th>\n",
       "      <td>49039.570000</td>\n",
       "    </tr>\n",
       "  </tbody>\n",
       "</table>\n",
       "</div>"
      ],
      "text/plain": [
       "          purchases\n",
       "count   1513.000000\n",
       "mean    4004.261335\n",
       "std     3892.903652\n",
       "min     1654.940000\n",
       "25%     2118.660000\n",
       "50%     2823.800000\n",
       "75%     4378.800000\n",
       "max    49039.570000"
      ]
     },
     "execution_count": 30,
     "metadata": {},
     "output_type": "execute_result"
    }
   ],
   "source": [
    "purchases_outlier_summary"
   ]
  },
  {
   "cell_type": "code",
   "execution_count": 31,
   "metadata": {},
   "outputs": [
    {
     "data": {
      "text/plain": [
       "array([4, 3, 2, 1], dtype=int64)"
      ]
     },
     "execution_count": 31,
     "metadata": {},
     "output_type": "execute_result"
    }
   ],
   "source": [
    "purchases_outliers_observations_count"
   ]
  },
  {
   "cell_type": "markdown",
   "metadata": {},
   "source": [
    "- Outliers values is getting high exponentially, have a large standard deviation "
   ]
  },
  {
   "cell_type": "code",
   "execution_count": 32,
   "metadata": {},
   "outputs": [
    {
     "data": {
      "image/png": "[encoded data removed]",
      "text/plain": [
       "<Figure size 360x360 with 1 Axes>"
      ]
     },
     "metadata": {
      "needs_background": "light"
     },
     "output_type": "display_data"
    }
   ],
   "source": [
    "# explore oneoff_purchases distribution\n",
    "hist(df, \"oneoff_purchases\", balance_bins)"
   ]
  },
  {
   "cell_type": "code",
   "execution_count": 33,
   "metadata": {},
   "outputs": [
    {
     "data": {
      "image/png": "[encoded data removed]",
      "text/plain": [
       "<Figure size 360x360 with 1 Axes>"
      ]
     },
     "metadata": {
      "needs_background": "light"
     },
     "output_type": "display_data"
    }
   ],
   "source": [
    "# explore oneoff_purchases distribution with smaller bin size\n",
    "hist(df, \"oneoff_purchases\", balance_bins_small)"
   ]
  },
  {
   "cell_type": "code",
   "execution_count": 34,
   "metadata": {},
   "outputs": [],
   "source": [
    "# outlier analysis for oneoff_purchases features\n",
    "oneoff_purchases_summary, oneoff_purchases_outliers_observations_count = outliers_analysis(df, \"oneoff_purchases\", summary_stats)"
   ]
  },
  {
   "cell_type": "code",
   "execution_count": 35,
   "metadata": {},
   "outputs": [
    {
     "data": {
      "text/html": [
       "<div>\n",
       "<style scoped>\n",
       "    .dataframe tbody tr th:only-of-type {\n",
       "        vertical-align: middle;\n",
       "    }\n",
       "\n",
       "    .dataframe tbody tr th {\n",
       "        vertical-align: top;\n",
       "    }\n",
       "\n",
       "    .dataframe thead th {\n",
       "        text-align: right;\n",
       "    }\n",
       "</style>\n",
       "<table border=\"1\" class=\"dataframe\">\n",
       "  <thead>\n",
       "    <tr style=\"text-align: right;\">\n",
       "      <th></th>\n",
       "      <th>oneoff_purchases</th>\n",
       "    </tr>\n",
       "  </thead>\n",
       "  <tbody>\n",
       "    <tr>\n",
       "      <th>count</th>\n",
       "      <td>1628.000000</td>\n",
       "    </tr>\n",
       "    <tr>\n",
       "      <th>mean</th>\n",
       "      <td>2627.508956</td>\n",
       "    </tr>\n",
       "    <tr>\n",
       "      <th>std</th>\n",
       "      <td>3129.082722</td>\n",
       "    </tr>\n",
       "    <tr>\n",
       "      <th>min</th>\n",
       "      <td>899.730000</td>\n",
       "    </tr>\n",
       "    <tr>\n",
       "      <th>25%</th>\n",
       "      <td>1212.722500</td>\n",
       "    </tr>\n",
       "    <tr>\n",
       "      <th>50%</th>\n",
       "      <td>1707.390000</td>\n",
       "    </tr>\n",
       "    <tr>\n",
       "      <th>75%</th>\n",
       "      <td>2834.005000</td>\n",
       "    </tr>\n",
       "    <tr>\n",
       "      <th>max</th>\n",
       "      <td>40761.250000</td>\n",
       "    </tr>\n",
       "  </tbody>\n",
       "</table>\n",
       "</div>"
      ],
      "text/plain": [
       "       oneoff_purchases\n",
       "count       1628.000000\n",
       "mean        2627.508956\n",
       "std         3129.082722\n",
       "min          899.730000\n",
       "25%         1212.722500\n",
       "50%         1707.390000\n",
       "75%         2834.005000\n",
       "max        40761.250000"
      ]
     },
     "execution_count": 35,
     "metadata": {},
     "output_type": "execute_result"
    }
   ],
   "source": [
    "oneoff_purchases_summary"
   ]
  },
  {
   "cell_type": "code",
   "execution_count": 36,
   "metadata": {},
   "outputs": [
    {
     "data": {
      "text/plain": [
       "array([12,  3,  2,  1], dtype=int64)"
      ]
     },
     "execution_count": 36,
     "metadata": {},
     "output_type": "execute_result"
    }
   ],
   "source": [
    "oneoff_purchases_outliers_observations_count"
   ]
  },
  {
   "cell_type": "markdown",
   "metadata": {},
   "source": [
    "- has the same outlier profile as the purchases\n",
    "- They also have the same distributions, means they are two features but both represent the same information. "
   ]
  },
  {
   "cell_type": "code",
   "execution_count": 37,
   "metadata": {},
   "outputs": [
    {
     "data": {
      "image/png": "[encoded data removed]",
      "text/plain": [
       "<Figure size 360x360 with 1 Axes>"
      ]
     },
     "metadata": {
      "needs_background": "light"
     },
     "output_type": "display_data"
    }
   ],
   "source": [
    "# explore installments_purchases distribution\n",
    "hist(df, \"installments_purchases\", balance_bins)"
   ]
  },
  {
   "cell_type": "code",
   "execution_count": 38,
   "metadata": {},
   "outputs": [
    {
     "data": {
      "image/png": "[encoded data removed]",
      "text/plain": [
       "<Figure size 360x360 with 1 Axes>"
      ]
     },
     "metadata": {
      "needs_background": "light"
     },
     "output_type": "display_data"
    }
   ],
   "source": [
    "# explore installments_purchases distribution with smaller bin size\n",
    "hist(df, \"installments_purchases\", balance_bins_small)"
   ]
  },
  {
   "cell_type": "code",
   "execution_count": 39,
   "metadata": {},
   "outputs": [],
   "source": [
    "# outlier analysis for installments_purchases features\n",
    "installments_purchases_summary, installments_purchases_outliers_observations_count = outliers_analysis(df, \"installments_purchases\", summary_stats)"
   ]
  },
  {
   "cell_type": "code",
   "execution_count": 40,
   "metadata": {},
   "outputs": [
    {
     "data": {
      "text/html": [
       "<div>\n",
       "<style scoped>\n",
       "    .dataframe tbody tr th:only-of-type {\n",
       "        vertical-align: middle;\n",
       "    }\n",
       "\n",
       "    .dataframe tbody tr th {\n",
       "        vertical-align: top;\n",
       "    }\n",
       "\n",
       "    .dataframe thead th {\n",
       "        text-align: right;\n",
       "    }\n",
       "</style>\n",
       "<table border=\"1\" class=\"dataframe\">\n",
       "  <thead>\n",
       "    <tr style=\"text-align: right;\">\n",
       "      <th></th>\n",
       "      <th>installments_purchases</th>\n",
       "    </tr>\n",
       "  </thead>\n",
       "  <tbody>\n",
       "    <tr>\n",
       "      <th>count</th>\n",
       "      <td>1508.000000</td>\n",
       "    </tr>\n",
       "    <tr>\n",
       "      <th>mean</th>\n",
       "      <td>1749.866101</td>\n",
       "    </tr>\n",
       "    <tr>\n",
       "      <th>std</th>\n",
       "      <td>1580.298124</td>\n",
       "    </tr>\n",
       "    <tr>\n",
       "      <th>min</th>\n",
       "      <td>726.420000</td>\n",
       "    </tr>\n",
       "    <tr>\n",
       "      <th>25%</th>\n",
       "      <td>952.645000</td>\n",
       "    </tr>\n",
       "    <tr>\n",
       "      <th>50%</th>\n",
       "      <td>1280.120000</td>\n",
       "    </tr>\n",
       "    <tr>\n",
       "      <th>75%</th>\n",
       "      <td>1909.475000</td>\n",
       "    </tr>\n",
       "    <tr>\n",
       "      <th>max</th>\n",
       "      <td>22500.000000</td>\n",
       "    </tr>\n",
       "  </tbody>\n",
       "</table>\n",
       "</div>"
      ],
      "text/plain": [
       "       installments_purchases\n",
       "count             1508.000000\n",
       "mean              1749.866101\n",
       "std               1580.298124\n",
       "min                726.420000\n",
       "25%                952.645000\n",
       "50%               1280.120000\n",
       "75%               1909.475000\n",
       "max              22500.000000"
      ]
     },
     "execution_count": 40,
     "metadata": {},
     "output_type": "execute_result"
    }
   ],
   "source": [
    "installments_purchases_summary"
   ]
  },
  {
   "cell_type": "code",
   "execution_count": 41,
   "metadata": {},
   "outputs": [
    {
     "data": {
      "text/plain": [
       "array([7, 5, 4, 3, 2, 1], dtype=int64)"
      ]
     },
     "execution_count": 41,
     "metadata": {},
     "output_type": "execute_result"
    }
   ],
   "source": [
    "installments_purchases_outliers_observations_count"
   ]
  },
  {
   "cell_type": "markdown",
   "metadata": {},
   "source": [
    "- oneoff_purchases outliers has the same profile of outliers as the purchases features\n",
    "- They also have the same distributions, means they are two features but both represent the same information. "
   ]
  },
  {
   "cell_type": "markdown",
   "metadata": {},
   "source": [
    "__From the exploration of the Purchases features they have the same distribution profile, same outliesrs ranges and profile,\n",
    "All of them encode the same information about the observation.__"
   ]
  },
  {
   "cell_type": "code",
   "execution_count": 42,
   "metadata": {},
   "outputs": [
    {
     "data": {
      "image/png": "[encoded data removed]",
      "text/plain": [
       "<Figure size 360x360 with 1 Axes>"
      ]
     },
     "metadata": {
      "needs_background": "light"
     },
     "output_type": "display_data"
    }
   ],
   "source": [
    "# explore cash_advance distribution\n",
    "hist(df, \"cash_advance\", balance_bins)"
   ]
  },
  {
   "cell_type": "code",
   "execution_count": 43,
   "metadata": {},
   "outputs": [
    {
     "data": {
      "image/png": "[encoded data removed]",
      "text/plain": [
       "<Figure size 360x360 with 1 Axes>"
      ]
     },
     "metadata": {
      "needs_background": "light"
     },
     "output_type": "display_data"
    }
   ],
   "source": [
    "# explore cash_advance distribution with smaller bin size\n",
    "hist(df, \"cash_advance\", balance_bins_small)"
   ]
  },
  {
   "cell_type": "code",
   "execution_count": 44,
   "metadata": {
    "scrolled": false
   },
   "outputs": [
    {
     "data": {
      "image/png": "[encoded data removed]",
      "text/plain": [
       "<Figure size 1080x720 with 1 Axes>"
      ]
     },
     "metadata": {
      "needs_background": "light"
     },
     "output_type": "display_data"
    }
   ],
   "source": [
    "# boxplot of cash_advance feature\n",
    "boxplot(df.cash_advance)"
   ]
  },
  {
   "cell_type": "code",
   "execution_count": 45,
   "metadata": {},
   "outputs": [],
   "source": [
    "# outlier analysis for cash_advance features\n",
    "cash_advance_summary, cash_advance_outliers_observations_count = outliers_analysis(df, \"cash_advance\", summary_stats)"
   ]
  },
  {
   "cell_type": "code",
   "execution_count": 46,
   "metadata": {
    "scrolled": true
   },
   "outputs": [
    {
     "data": {
      "text/html": [
       "<div>\n",
       "<style scoped>\n",
       "    .dataframe tbody tr th:only-of-type {\n",
       "        vertical-align: middle;\n",
       "    }\n",
       "\n",
       "    .dataframe tbody tr th {\n",
       "        vertical-align: top;\n",
       "    }\n",
       "\n",
       "    .dataframe thead th {\n",
       "        text-align: right;\n",
       "    }\n",
       "</style>\n",
       "<table border=\"1\" class=\"dataframe\">\n",
       "  <thead>\n",
       "    <tr style=\"text-align: right;\">\n",
       "      <th></th>\n",
       "      <th>cash_advance</th>\n",
       "    </tr>\n",
       "  </thead>\n",
       "  <tbody>\n",
       "    <tr>\n",
       "      <th>count</th>\n",
       "      <td>1655.000000</td>\n",
       "    </tr>\n",
       "    <tr>\n",
       "      <th>mean</th>\n",
       "      <td>4195.600622</td>\n",
       "    </tr>\n",
       "    <tr>\n",
       "      <th>std</th>\n",
       "      <td>3168.521752</td>\n",
       "    </tr>\n",
       "    <tr>\n",
       "      <th>min</th>\n",
       "      <td>1700.074178</td>\n",
       "    </tr>\n",
       "    <tr>\n",
       "      <th>25%</th>\n",
       "      <td>2357.889149</td>\n",
       "    </tr>\n",
       "    <tr>\n",
       "      <th>50%</th>\n",
       "      <td>3216.192328</td>\n",
       "    </tr>\n",
       "    <tr>\n",
       "      <th>75%</th>\n",
       "      <td>4818.983386</td>\n",
       "    </tr>\n",
       "    <tr>\n",
       "      <th>max</th>\n",
       "      <td>47137.211760</td>\n",
       "    </tr>\n",
       "  </tbody>\n",
       "</table>\n",
       "</div>"
      ],
      "text/plain": [
       "       cash_advance\n",
       "count   1655.000000\n",
       "mean    4195.600622\n",
       "std     3168.521752\n",
       "min     1700.074178\n",
       "25%     2357.889149\n",
       "50%     3216.192328\n",
       "75%     4818.983386\n",
       "max    47137.211760"
      ]
     },
     "execution_count": 46,
     "metadata": {},
     "output_type": "execute_result"
    }
   ],
   "source": [
    "cash_advance_summary"
   ]
  },
  {
   "cell_type": "code",
   "execution_count": 47,
   "metadata": {},
   "outputs": [
    {
     "data": {
      "text/plain": [
       "array([1], dtype=int64)"
      ]
     },
     "execution_count": 47,
     "metadata": {},
     "output_type": "execute_result"
    }
   ],
   "source": [
    "cash_advance_outliers_observations_count"
   ]
  },
  {
   "cell_type": "markdown",
   "metadata": {},
   "source": [
    "- all the outliers observations observed 1 time only\n",
    "- the cash_advance feature has the same distributions as balance feature, but have outlier profile like purchases features"
   ]
  },
  {
   "cell_type": "code",
   "execution_count": 48,
   "metadata": {},
   "outputs": [
    {
     "data": {
      "image/png": "[encoded data removed]",
      "text/plain": [
       "<Figure size 360x360 with 1 Axes>"
      ]
     },
     "metadata": {
      "needs_background": "light"
     },
     "output_type": "display_data"
    }
   ],
   "source": [
    "# explore purchases_frequency distribution\n",
    "hist(df, \"purchases_frequency\", freq_bins)"
   ]
  },
  {
   "cell_type": "markdown",
   "metadata": {},
   "source": [
    "- Purchases are equally distributed between frequent and not frequent purchases"
   ]
  },
  {
   "cell_type": "code",
   "execution_count": 49,
   "metadata": {},
   "outputs": [
    {
     "data": {
      "image/png": "[encoded data removed]",
      "text/plain": [
       "<Figure size 360x360 with 1 Axes>"
      ]
     },
     "metadata": {
      "needs_background": "light"
     },
     "output_type": "display_data"
    }
   ],
   "source": [
    "# explore oneoff_purchases_frequency distribution\n",
    "hist(df, \"oneoff_purchases_frequency\", freq_bins)"
   ]
  },
  {
   "cell_type": "markdown",
   "metadata": {},
   "source": [
    "- few amount of purchases obbservations re happening in one-go"
   ]
  },
  {
   "cell_type": "code",
   "execution_count": 50,
   "metadata": {},
   "outputs": [
    {
     "data": {
      "image/png": "[encoded data removed]",
      "text/plain": [
       "<Figure size 360x360 with 1 Axes>"
      ]
     },
     "metadata": {
      "needs_background": "light"
     },
     "output_type": "display_data"
    }
   ],
   "source": [
    "# explore purchases_installments_frequency distribution\n",
    "hist(df, \"purchases_installments_frequency\", freq_bins)"
   ]
  },
  {
   "cell_type": "markdown",
   "metadata": {},
   "source": [
    "- same frequency distribution as oneoff_purchases_frequency"
   ]
  },
  {
   "cell_type": "code",
   "execution_count": 51,
   "metadata": {},
   "outputs": [
    {
     "data": {
      "image/png": "[encoded data removed]",
      "text/plain": [
       "<Figure size 360x360 with 1 Axes>"
      ]
     },
     "metadata": {
      "needs_background": "light"
     },
     "output_type": "display_data"
    }
   ],
   "source": [
    "# explore cash_advance_frequency distribution\n",
    "hist(df, \"cash_advance_frequency\", freq_bins)"
   ]
  },
  {
   "cell_type": "markdown",
   "metadata": {},
   "source": [
    "- few amount of credit cards hascash in advance"
   ]
  },
  {
   "cell_type": "code",
   "execution_count": 52,
   "metadata": {},
   "outputs": [
    {
     "data": {
      "image/png": "[encoded data removed]",
      "text/plain": [
       "<Figure size 360x360 with 1 Axes>"
      ]
     },
     "metadata": {
      "needs_background": "light"
     },
     "output_type": "display_data"
    }
   ],
   "source": [
    "# explore cash_advance_transactions distribution\n",
    "hist(df, \"cash_advance_transactions\", freq_bins)"
   ]
  },
  {
   "cell_type": "markdown",
   "metadata": {},
   "source": [
    "- Few amount of transactions happens with cash in advance balance, nearly the same frequency of cash in advance, i will not consider these feature as most of the data point in the same category"
   ]
  },
  {
   "cell_type": "code",
   "execution_count": 53,
   "metadata": {},
   "outputs": [
    {
     "data": {
      "image/png": "[encoded data removed]",
      "text/plain": [
       "<Figure size 360x360 with 1 Axes>"
      ]
     },
     "metadata": {
      "needs_background": "light"
     },
     "output_type": "display_data"
    }
   ],
   "source": [
    "# explore purchases_transactions distribution\n",
    "spec1_bins = np.arange(0,400, 20)\n",
    "hist(df, \"purchases_transactions\",spec1_bins)"
   ]
  },
  {
   "cell_type": "markdown",
   "metadata": {},
   "source": [
    "Numbe of purchase transactions made"
   ]
  },
  {
   "cell_type": "code",
   "execution_count": 54,
   "metadata": {},
   "outputs": [
    {
     "data": {
      "image/png": "[encoded data removed]",
      "text/plain": [
       "<Figure size 1080x720 with 1 Axes>"
      ]
     },
     "metadata": {
      "needs_background": "light"
     },
     "output_type": "display_data"
    }
   ],
   "source": [
    "# boxplot for purchases_transactions\n",
    "boxplot(df.purchases_transactions)"
   ]
  },
  {
   "cell_type": "markdown",
   "metadata": {},
   "source": [
    "This feature has high percentage of outliers"
   ]
  },
  {
   "cell_type": "code",
   "execution_count": 55,
   "metadata": {},
   "outputs": [
    {
     "data": {
      "text/plain": [
       "0      1967\n",
       "1       606\n",
       "12      537\n",
       "2       345\n",
       "6       340\n",
       "       ... \n",
       "171       1\n",
       "168       1\n",
       "232       1\n",
       "148       1\n",
       "186       1\n",
       "Name: purchases_transactions, Length: 173, dtype: int64"
      ]
     },
     "execution_count": 55,
     "metadata": {},
     "output_type": "execute_result"
    }
   ],
   "source": [
    "df.purchases_transactions.value_counts()"
   ]
  },
  {
   "cell_type": "code",
   "execution_count": 56,
   "metadata": {},
   "outputs": [
    {
     "data": {
      "text/plain": [
       "count    8636.000000\n",
       "mean       15.033233\n",
       "std        25.180468\n",
       "min         0.000000\n",
       "25%         1.000000\n",
       "50%         7.000000\n",
       "75%        18.000000\n",
       "max       358.000000\n",
       "Name: purchases_transactions, dtype: float64"
      ]
     },
     "execution_count": 56,
     "metadata": {},
     "output_type": "execute_result"
    }
   ],
   "source": [
    "df.purchases_transactions.describe()"
   ]
  },
  {
   "cell_type": "code",
   "execution_count": 57,
   "metadata": {},
   "outputs": [
    {
     "data": {
      "text/plain": [
       "0      1967\n",
       "1       606\n",
       "12      537\n",
       "2       345\n",
       "6       340\n",
       "       ... \n",
       "171       1\n",
       "168       1\n",
       "232       1\n",
       "148       1\n",
       "186       1\n",
       "Name: purchases_transactions, Length: 173, dtype: int64"
      ]
     },
     "execution_count": 57,
     "metadata": {},
     "output_type": "execute_result"
    }
   ],
   "source": [
    "df.purchases_transactions.value_counts()"
   ]
  },
  {
   "cell_type": "markdown",
   "metadata": {},
   "source": [
    "__There is a lot of Credit card did not used in any purchase transactions__"
   ]
  },
  {
   "cell_type": "code",
   "execution_count": 58,
   "metadata": {},
   "outputs": [
    {
     "data": {
      "image/png": "[encoded data removed]",
      "text/plain": [
       "<Figure size 360x360 with 1 Axes>"
      ]
     },
     "metadata": {
      "needs_background": "light"
     },
     "output_type": "display_data"
    }
   ],
   "source": [
    "# explore credit_limit distribution\n",
    "hist(df, \"credit_limit\", balance_bins)"
   ]
  },
  {
   "cell_type": "code",
   "execution_count": 59,
   "metadata": {},
   "outputs": [
    {
     "data": {
      "image/png": "[encoded data removed]",
      "text/plain": [
       "<Figure size 360x360 with 1 Axes>"
      ]
     },
     "metadata": {
      "needs_background": "light"
     },
     "output_type": "display_data"
    }
   ],
   "source": [
    "# explore credit_limit distribution\n",
    "hist(df, \"credit_limit\", balance_bins_small)"
   ]
  },
  {
   "cell_type": "code",
   "execution_count": 60,
   "metadata": {},
   "outputs": [
    {
     "data": {
      "text/plain": [
       "count     8636.000000\n",
       "mean      4522.091030\n",
       "std       3659.240379\n",
       "min         50.000000\n",
       "25%       1600.000000\n",
       "50%       3000.000000\n",
       "75%       6500.000000\n",
       "max      30000.000000\n",
       "Name: credit_limit, dtype: float64"
      ]
     },
     "execution_count": 60,
     "metadata": {},
     "output_type": "execute_result"
    }
   ],
   "source": [
    "df.credit_limit.describe()"
   ]
  },
  {
   "cell_type": "markdown",
   "metadata": {},
   "source": [
    "__The Credit limit distribution is positively skewed, 75% cards credit limit is below 6500 and the fourth quartile range from 6500 to 30000__"
   ]
  },
  {
   "cell_type": "code",
   "execution_count": 61,
   "metadata": {},
   "outputs": [
    {
     "data": {
      "image/png": "[encoded data removed]",
      "text/plain": [
       "<Figure size 360x360 with 1 Axes>"
      ]
     },
     "metadata": {
      "needs_background": "light"
     },
     "output_type": "display_data"
    }
   ],
   "source": [
    "# explore payments_done distribution\n",
    "hist(df, \"payments_done\", balance_bins_small)"
   ]
  },
  {
   "cell_type": "code",
   "execution_count": 62,
   "metadata": {},
   "outputs": [
    {
     "data": {
      "image/png": "[encoded data removed]",
      "text/plain": [
       "<Figure size 360x360 with 1 Axes>"
      ]
     },
     "metadata": {
      "needs_background": "light"
     },
     "output_type": "display_data"
    }
   ],
   "source": [
    "# explore minimum_payments distribution\n",
    "hist(df, \"minimum_payments\", balance_bins_small)"
   ]
  },
  {
   "cell_type": "markdown",
   "metadata": {},
   "source": [
    "__Payment Done, and Minimum Payments__ We will consider the one of to avoid effect of correnility"
   ]
  },
  {
   "cell_type": "code",
   "execution_count": 63,
   "metadata": {},
   "outputs": [
    {
     "data": {
      "image/png": "[encoded data removed]",
      "text/plain": [
       "<Figure size 360x360 with 1 Axes>"
      ]
     },
     "metadata": {
      "needs_background": "light"
     },
     "output_type": "display_data"
    }
   ],
   "source": [
    "# explore percent_full_payment distribution\n",
    "hist(df, \"percent_full_payment\", freq_bins)"
   ]
  },
  {
   "cell_type": "markdown",
   "metadata": {},
   "source": [
    "__Payments done by the users of credit cards tend to be small as the majorty of them is below 5000__, Not important in our model as almost all of the data point in 1 category."
   ]
  },
  {
   "cell_type": "code",
   "execution_count": 64,
   "metadata": {},
   "outputs": [
    {
     "data": {
      "image/png": "[encoded data removed]",
      "text/plain": [
       "<Figure size 360x360 with 1 Axes>"
      ]
     },
     "metadata": {
      "needs_background": "light"
     },
     "output_type": "display_data"
    }
   ],
   "source": [
    "# explore tenure distribution\n",
    "hist(df, \"tenure\", tenure_bins)"
   ]
  },
  {
   "cell_type": "markdown",
   "metadata": {},
   "source": [
    "__Most of the payment tenure are 12 months__, Not important in our model as almost all of the data point in 1 category."
   ]
  },
  {
   "cell_type": "code",
   "execution_count": 65,
   "metadata": {},
   "outputs": [
    {
     "name": "stdout",
     "output_type": "stream",
     "text": [
      "<class 'pandas.core.frame.DataFrame'>\n",
      "Int64Index: 8636 entries, 0 to 8949\n",
      "Data columns (total 17 columns):\n",
      " #   Column                            Non-Null Count  Dtype  \n",
      "---  ------                            --------------  -----  \n",
      " 0   balance                           8636 non-null   float64\n",
      " 1   balance_frequency                 8636 non-null   float64\n",
      " 2   purchases                         8636 non-null   float64\n",
      " 3   oneoff_purchases                  8636 non-null   float64\n",
      " 4   installments_purchases            8636 non-null   float64\n",
      " 5   cash_advance                      8636 non-null   float64\n",
      " 6   purchases_frequency               8636 non-null   float64\n",
      " 7   oneoff_purchases_frequency        8636 non-null   float64\n",
      " 8   purchases_installments_frequency  8636 non-null   float64\n",
      " 9   cash_advance_frequency            8636 non-null   float64\n",
      " 10  cash_advance_transactions         8636 non-null   int64  \n",
      " 11  purchases_transactions            8636 non-null   int64  \n",
      " 12  credit_limit                      8636 non-null   float64\n",
      " 13  payments_done                     8636 non-null   float64\n",
      " 14  minimum_payments                  8636 non-null   float64\n",
      " 15  percent_full_payment              8636 non-null   float64\n",
      " 16  tenure                            8636 non-null   int64  \n",
      "dtypes: float64(14), int64(3)\n",
      "memory usage: 1.4 MB\n"
     ]
    }
   ],
   "source": [
    "df.info()"
   ]
  },
  {
   "cell_type": "markdown",
   "metadata": {},
   "source": [
    "### Feature Selection\n",
    "\n",
    "__Purchases Features__\n",
    "\n",
    "> - purchases = purchases and oneoff_purchases \n",
    "> - purchases_transactions\n",
    "\n",
    ">all of the three features has the same distribution, and outliers profile\n",
    "\n",
    "__Purchases Frequecy Features__\n",
    "\n",
    ">purchase_freq = ((( oneoff_purchases_frequency + purchases_installments_frequency) / 2) + purchases_frequency) / 2\n",
    "\n",
    "__Cash Features__\n",
    "> - credit_limit \n",
    "> - cash_advance \n",
    "> - balance\n",
    "\n",
    "__Cash Frequency Features__\n",
    "\n",
    "> - balance_frequency\n",
    " > -cash_advance_freqency\n",
    "\n",
    "__Payment Features__\n",
    "\n",
    "> payments_done \n"
   ]
  },
  {
   "cell_type": "code",
   "execution_count": 66,
   "metadata": {},
   "outputs": [
    {
     "data": {
      "text/html": [
       "<div>\n",
       "<style scoped>\n",
       "    .dataframe tbody tr th:only-of-type {\n",
       "        vertical-align: middle;\n",
       "    }\n",
       "\n",
       "    .dataframe tbody tr th {\n",
       "        vertical-align: top;\n",
       "    }\n",
       "\n",
       "    .dataframe thead th {\n",
       "        text-align: right;\n",
       "    }\n",
       "</style>\n",
       "<table border=\"1\" class=\"dataframe\">\n",
       "  <thead>\n",
       "    <tr style=\"text-align: right;\">\n",
       "      <th></th>\n",
       "      <th>balance</th>\n",
       "      <th>credit_limit</th>\n",
       "      <th>cash_advance</th>\n",
       "      <th>payments_done</th>\n",
       "      <th>purchases</th>\n",
       "      <th>oneoff_purchases</th>\n",
       "      <th>balance_frequency</th>\n",
       "      <th>cash_advance_frequency</th>\n",
       "    </tr>\n",
       "  </thead>\n",
       "  <tbody>\n",
       "    <tr>\n",
       "      <th>0</th>\n",
       "      <td>40.900749</td>\n",
       "      <td>1000.0</td>\n",
       "      <td>0.000000</td>\n",
       "      <td>201.802084</td>\n",
       "      <td>95.40</td>\n",
       "      <td>0.00</td>\n",
       "      <td>0.818182</td>\n",
       "      <td>0.000000</td>\n",
       "    </tr>\n",
       "    <tr>\n",
       "      <th>1</th>\n",
       "      <td>3202.467416</td>\n",
       "      <td>7000.0</td>\n",
       "      <td>6442.945483</td>\n",
       "      <td>4103.032597</td>\n",
       "      <td>0.00</td>\n",
       "      <td>0.00</td>\n",
       "      <td>0.909091</td>\n",
       "      <td>0.250000</td>\n",
       "    </tr>\n",
       "    <tr>\n",
       "      <th>2</th>\n",
       "      <td>2495.148862</td>\n",
       "      <td>7500.0</td>\n",
       "      <td>0.000000</td>\n",
       "      <td>622.066742</td>\n",
       "      <td>773.17</td>\n",
       "      <td>773.17</td>\n",
       "      <td>1.000000</td>\n",
       "      <td>0.000000</td>\n",
       "    </tr>\n",
       "    <tr>\n",
       "      <th>4</th>\n",
       "      <td>817.714335</td>\n",
       "      <td>1200.0</td>\n",
       "      <td>0.000000</td>\n",
       "      <td>678.334763</td>\n",
       "      <td>16.00</td>\n",
       "      <td>16.00</td>\n",
       "      <td>1.000000</td>\n",
       "      <td>0.000000</td>\n",
       "    </tr>\n",
       "    <tr>\n",
       "      <th>5</th>\n",
       "      <td>1809.828751</td>\n",
       "      <td>1800.0</td>\n",
       "      <td>0.000000</td>\n",
       "      <td>1400.057770</td>\n",
       "      <td>1333.28</td>\n",
       "      <td>0.00</td>\n",
       "      <td>1.000000</td>\n",
       "      <td>0.000000</td>\n",
       "    </tr>\n",
       "    <tr>\n",
       "      <th>...</th>\n",
       "      <td>...</td>\n",
       "      <td>...</td>\n",
       "      <td>...</td>\n",
       "      <td>...</td>\n",
       "      <td>...</td>\n",
       "      <td>...</td>\n",
       "      <td>...</td>\n",
       "      <td>...</td>\n",
       "    </tr>\n",
       "    <tr>\n",
       "      <th>8943</th>\n",
       "      <td>5.871712</td>\n",
       "      <td>500.0</td>\n",
       "      <td>0.000000</td>\n",
       "      <td>58.644883</td>\n",
       "      <td>20.90</td>\n",
       "      <td>20.90</td>\n",
       "      <td>0.500000</td>\n",
       "      <td>0.000000</td>\n",
       "    </tr>\n",
       "    <tr>\n",
       "      <th>8945</th>\n",
       "      <td>28.493517</td>\n",
       "      <td>1000.0</td>\n",
       "      <td>0.000000</td>\n",
       "      <td>325.594462</td>\n",
       "      <td>291.12</td>\n",
       "      <td>0.00</td>\n",
       "      <td>1.000000</td>\n",
       "      <td>0.000000</td>\n",
       "    </tr>\n",
       "    <tr>\n",
       "      <th>8947</th>\n",
       "      <td>23.398673</td>\n",
       "      <td>1000.0</td>\n",
       "      <td>0.000000</td>\n",
       "      <td>81.270775</td>\n",
       "      <td>144.40</td>\n",
       "      <td>0.00</td>\n",
       "      <td>0.833333</td>\n",
       "      <td>0.000000</td>\n",
       "    </tr>\n",
       "    <tr>\n",
       "      <th>8948</th>\n",
       "      <td>13.457564</td>\n",
       "      <td>500.0</td>\n",
       "      <td>36.558778</td>\n",
       "      <td>52.549959</td>\n",
       "      <td>0.00</td>\n",
       "      <td>0.00</td>\n",
       "      <td>0.833333</td>\n",
       "      <td>0.166667</td>\n",
       "    </tr>\n",
       "    <tr>\n",
       "      <th>8949</th>\n",
       "      <td>372.708075</td>\n",
       "      <td>1200.0</td>\n",
       "      <td>127.040008</td>\n",
       "      <td>63.165404</td>\n",
       "      <td>1093.25</td>\n",
       "      <td>1093.25</td>\n",
       "      <td>0.666667</td>\n",
       "      <td>0.333333</td>\n",
       "    </tr>\n",
       "  </tbody>\n",
       "</table>\n",
       "<p>8636 rows × 8 columns</p>\n",
       "</div>"
      ],
      "text/plain": [
       "          balance  credit_limit  cash_advance  payments_done  purchases  \\\n",
       "0       40.900749        1000.0      0.000000     201.802084      95.40   \n",
       "1     3202.467416        7000.0   6442.945483    4103.032597       0.00   \n",
       "2     2495.148862        7500.0      0.000000     622.066742     773.17   \n",
       "4      817.714335        1200.0      0.000000     678.334763      16.00   \n",
       "5     1809.828751        1800.0      0.000000    1400.057770    1333.28   \n",
       "...           ...           ...           ...            ...        ...   \n",
       "8943     5.871712         500.0      0.000000      58.644883      20.90   \n",
       "8945    28.493517        1000.0      0.000000     325.594462     291.12   \n",
       "8947    23.398673        1000.0      0.000000      81.270775     144.40   \n",
       "8948    13.457564         500.0     36.558778      52.549959       0.00   \n",
       "8949   372.708075        1200.0    127.040008      63.165404    1093.25   \n",
       "\n",
       "      oneoff_purchases  balance_frequency  cash_advance_frequency  \n",
       "0                 0.00           0.818182                0.000000  \n",
       "1                 0.00           0.909091                0.250000  \n",
       "2               773.17           1.000000                0.000000  \n",
       "4                16.00           1.000000                0.000000  \n",
       "5                 0.00           1.000000                0.000000  \n",
       "...                ...                ...                     ...  \n",
       "8943             20.90           0.500000                0.000000  \n",
       "8945              0.00           1.000000                0.000000  \n",
       "8947              0.00           0.833333                0.000000  \n",
       "8948              0.00           0.833333                0.166667  \n",
       "8949           1093.25           0.666667                0.333333  \n",
       "\n",
       "[8636 rows x 8 columns]"
      ]
     },
     "execution_count": 66,
     "metadata": {},
     "output_type": "execute_result"
    }
   ],
   "source": [
    "# our Engineered Df\n",
    "# get cash features and payment features and purchases\n",
    "df_selected = df[[\"balance\", \"credit_limit\", \"cash_advance\", \"payments_done\", \"purchases\", \"oneoff_purchases\", \"balance_frequency\", \"cash_advance_frequency\"]]\n",
    "df_selected"
   ]
  },
  {
   "cell_type": "code",
   "execution_count": 67,
   "metadata": {},
   "outputs": [
    {
     "name": "stderr",
     "output_type": "stream",
     "text": [
      "C:\\Users\\moham\\AppData\\Local\\Temp/ipykernel_8140/3054524020.py:2: SettingWithCopyWarning: \n",
      "A value is trying to be set on a copy of a slice from a DataFrame.\n",
      "Try using .loc[row_indexer,col_indexer] = value instead\n",
      "\n",
      "See the caveats in the documentation: https://pandas.pydata.org/pandas-docs/stable/user_guide/indexing.html#returning-a-view-versus-a-copy\n",
      "  df_selected[\"purchases_freq\"] = round((((( df.oneoff_purchases_frequency + df.purchases_installments_frequency) / 2) + df.purchases_frequency) / 2), 2);\n"
     ]
    },
    {
     "data": {
      "text/html": [
       "<div>\n",
       "<style scoped>\n",
       "    .dataframe tbody tr th:only-of-type {\n",
       "        vertical-align: middle;\n",
       "    }\n",
       "\n",
       "    .dataframe tbody tr th {\n",
       "        vertical-align: top;\n",
       "    }\n",
       "\n",
       "    .dataframe thead th {\n",
       "        text-align: right;\n",
       "    }\n",
       "</style>\n",
       "<table border=\"1\" class=\"dataframe\">\n",
       "  <thead>\n",
       "    <tr style=\"text-align: right;\">\n",
       "      <th></th>\n",
       "      <th>balance</th>\n",
       "      <th>credit_limit</th>\n",
       "      <th>cash_advance</th>\n",
       "      <th>payments_done</th>\n",
       "      <th>purchases</th>\n",
       "      <th>oneoff_purchases</th>\n",
       "      <th>balance_frequency</th>\n",
       "      <th>cash_advance_frequency</th>\n",
       "      <th>purchases_freq</th>\n",
       "    </tr>\n",
       "  </thead>\n",
       "  <tbody>\n",
       "    <tr>\n",
       "      <th>0</th>\n",
       "      <td>40.900749</td>\n",
       "      <td>1000.0</td>\n",
       "      <td>0.000000</td>\n",
       "      <td>201.802084</td>\n",
       "      <td>95.40</td>\n",
       "      <td>0.00</td>\n",
       "      <td>0.818182</td>\n",
       "      <td>0.000000</td>\n",
       "      <td>0.10</td>\n",
       "    </tr>\n",
       "    <tr>\n",
       "      <th>1</th>\n",
       "      <td>3202.467416</td>\n",
       "      <td>7000.0</td>\n",
       "      <td>6442.945483</td>\n",
       "      <td>4103.032597</td>\n",
       "      <td>0.00</td>\n",
       "      <td>0.00</td>\n",
       "      <td>0.909091</td>\n",
       "      <td>0.250000</td>\n",
       "      <td>0.00</td>\n",
       "    </tr>\n",
       "    <tr>\n",
       "      <th>2</th>\n",
       "      <td>2495.148862</td>\n",
       "      <td>7500.0</td>\n",
       "      <td>0.000000</td>\n",
       "      <td>622.066742</td>\n",
       "      <td>773.17</td>\n",
       "      <td>773.17</td>\n",
       "      <td>1.000000</td>\n",
       "      <td>0.000000</td>\n",
       "      <td>0.75</td>\n",
       "    </tr>\n",
       "    <tr>\n",
       "      <th>4</th>\n",
       "      <td>817.714335</td>\n",
       "      <td>1200.0</td>\n",
       "      <td>0.000000</td>\n",
       "      <td>678.334763</td>\n",
       "      <td>16.00</td>\n",
       "      <td>16.00</td>\n",
       "      <td>1.000000</td>\n",
       "      <td>0.000000</td>\n",
       "      <td>0.06</td>\n",
       "    </tr>\n",
       "    <tr>\n",
       "      <th>5</th>\n",
       "      <td>1809.828751</td>\n",
       "      <td>1800.0</td>\n",
       "      <td>0.000000</td>\n",
       "      <td>1400.057770</td>\n",
       "      <td>1333.28</td>\n",
       "      <td>0.00</td>\n",
       "      <td>1.000000</td>\n",
       "      <td>0.000000</td>\n",
       "      <td>0.48</td>\n",
       "    </tr>\n",
       "    <tr>\n",
       "      <th>...</th>\n",
       "      <td>...</td>\n",
       "      <td>...</td>\n",
       "      <td>...</td>\n",
       "      <td>...</td>\n",
       "      <td>...</td>\n",
       "      <td>...</td>\n",
       "      <td>...</td>\n",
       "      <td>...</td>\n",
       "      <td>...</td>\n",
       "    </tr>\n",
       "    <tr>\n",
       "      <th>8943</th>\n",
       "      <td>5.871712</td>\n",
       "      <td>500.0</td>\n",
       "      <td>0.000000</td>\n",
       "      <td>58.644883</td>\n",
       "      <td>20.90</td>\n",
       "      <td>20.90</td>\n",
       "      <td>0.500000</td>\n",
       "      <td>0.000000</td>\n",
       "      <td>0.13</td>\n",
       "    </tr>\n",
       "    <tr>\n",
       "      <th>8945</th>\n",
       "      <td>28.493517</td>\n",
       "      <td>1000.0</td>\n",
       "      <td>0.000000</td>\n",
       "      <td>325.594462</td>\n",
       "      <td>291.12</td>\n",
       "      <td>0.00</td>\n",
       "      <td>1.000000</td>\n",
       "      <td>0.000000</td>\n",
       "      <td>0.71</td>\n",
       "    </tr>\n",
       "    <tr>\n",
       "      <th>8947</th>\n",
       "      <td>23.398673</td>\n",
       "      <td>1000.0</td>\n",
       "      <td>0.000000</td>\n",
       "      <td>81.270775</td>\n",
       "      <td>144.40</td>\n",
       "      <td>0.00</td>\n",
       "      <td>0.833333</td>\n",
       "      <td>0.000000</td>\n",
       "      <td>0.58</td>\n",
       "    </tr>\n",
       "    <tr>\n",
       "      <th>8948</th>\n",
       "      <td>13.457564</td>\n",
       "      <td>500.0</td>\n",
       "      <td>36.558778</td>\n",
       "      <td>52.549959</td>\n",
       "      <td>0.00</td>\n",
       "      <td>0.00</td>\n",
       "      <td>0.833333</td>\n",
       "      <td>0.166667</td>\n",
       "      <td>0.00</td>\n",
       "    </tr>\n",
       "    <tr>\n",
       "      <th>8949</th>\n",
       "      <td>372.708075</td>\n",
       "      <td>1200.0</td>\n",
       "      <td>127.040008</td>\n",
       "      <td>63.165404</td>\n",
       "      <td>1093.25</td>\n",
       "      <td>1093.25</td>\n",
       "      <td>0.666667</td>\n",
       "      <td>0.333333</td>\n",
       "      <td>0.50</td>\n",
       "    </tr>\n",
       "  </tbody>\n",
       "</table>\n",
       "<p>8636 rows × 9 columns</p>\n",
       "</div>"
      ],
      "text/plain": [
       "          balance  credit_limit  cash_advance  payments_done  purchases  \\\n",
       "0       40.900749        1000.0      0.000000     201.802084      95.40   \n",
       "1     3202.467416        7000.0   6442.945483    4103.032597       0.00   \n",
       "2     2495.148862        7500.0      0.000000     622.066742     773.17   \n",
       "4      817.714335        1200.0      0.000000     678.334763      16.00   \n",
       "5     1809.828751        1800.0      0.000000    1400.057770    1333.28   \n",
       "...           ...           ...           ...            ...        ...   \n",
       "8943     5.871712         500.0      0.000000      58.644883      20.90   \n",
       "8945    28.493517        1000.0      0.000000     325.594462     291.12   \n",
       "8947    23.398673        1000.0      0.000000      81.270775     144.40   \n",
       "8948    13.457564         500.0     36.558778      52.549959       0.00   \n",
       "8949   372.708075        1200.0    127.040008      63.165404    1093.25   \n",
       "\n",
       "      oneoff_purchases  balance_frequency  cash_advance_frequency  \\\n",
       "0                 0.00           0.818182                0.000000   \n",
       "1                 0.00           0.909091                0.250000   \n",
       "2               773.17           1.000000                0.000000   \n",
       "4                16.00           1.000000                0.000000   \n",
       "5                 0.00           1.000000                0.000000   \n",
       "...                ...                ...                     ...   \n",
       "8943             20.90           0.500000                0.000000   \n",
       "8945              0.00           1.000000                0.000000   \n",
       "8947              0.00           0.833333                0.000000   \n",
       "8948              0.00           0.833333                0.166667   \n",
       "8949           1093.25           0.666667                0.333333   \n",
       "\n",
       "      purchases_freq  \n",
       "0               0.10  \n",
       "1               0.00  \n",
       "2               0.75  \n",
       "4               0.06  \n",
       "5               0.48  \n",
       "...              ...  \n",
       "8943            0.13  \n",
       "8945            0.71  \n",
       "8947            0.58  \n",
       "8948            0.00  \n",
       "8949            0.50  \n",
       "\n",
       "[8636 rows x 9 columns]"
      ]
     },
     "execution_count": 67,
     "metadata": {},
     "output_type": "execute_result"
    }
   ],
   "source": [
    "# engineeer purchases frequency feature\n",
    "df_selected[\"purchases_freq\"] = round((((( df.oneoff_purchases_frequency + df.purchases_installments_frequency) / 2) + df.purchases_frequency) / 2), 2);\n",
    "df_selected"
   ]
  },
  {
   "cell_type": "code",
   "execution_count": 68,
   "metadata": {},
   "outputs": [
    {
     "data": {
      "text/html": [
       "<div>\n",
       "<style scoped>\n",
       "    .dataframe tbody tr th:only-of-type {\n",
       "        vertical-align: middle;\n",
       "    }\n",
       "\n",
       "    .dataframe tbody tr th {\n",
       "        vertical-align: top;\n",
       "    }\n",
       "\n",
       "    .dataframe thead th {\n",
       "        text-align: right;\n",
       "    }\n",
       "</style>\n",
       "<table border=\"1\" class=\"dataframe\">\n",
       "  <thead>\n",
       "    <tr style=\"text-align: right;\">\n",
       "      <th></th>\n",
       "      <th>balance</th>\n",
       "      <th>credit_limit</th>\n",
       "      <th>cash_advance</th>\n",
       "      <th>payments_done</th>\n",
       "      <th>purchases</th>\n",
       "      <th>oneoff_purchases</th>\n",
       "      <th>balance_frequency</th>\n",
       "      <th>cash_advance_frequency</th>\n",
       "      <th>purchases_freq</th>\n",
       "    </tr>\n",
       "  </thead>\n",
       "  <tbody>\n",
       "    <tr>\n",
       "      <th>count</th>\n",
       "      <td>8636.000000</td>\n",
       "      <td>8636.000000</td>\n",
       "      <td>8636.000000</td>\n",
       "      <td>8636.000000</td>\n",
       "      <td>8636.000000</td>\n",
       "      <td>8636.000000</td>\n",
       "      <td>8636.000000</td>\n",
       "      <td>8636.000000</td>\n",
       "      <td>8636.000000</td>\n",
       "    </tr>\n",
       "    <tr>\n",
       "      <th>mean</th>\n",
       "      <td>1601.224893</td>\n",
       "      <td>4522.091030</td>\n",
       "      <td>994.175523</td>\n",
       "      <td>1784.478099</td>\n",
       "      <td>1025.433874</td>\n",
       "      <td>604.901438</td>\n",
       "      <td>0.895035</td>\n",
       "      <td>0.137604</td>\n",
       "      <td>0.391791</td>\n",
       "    </tr>\n",
       "    <tr>\n",
       "      <th>std</th>\n",
       "      <td>2095.571300</td>\n",
       "      <td>3659.240379</td>\n",
       "      <td>2121.458303</td>\n",
       "      <td>2909.810090</td>\n",
       "      <td>2167.107984</td>\n",
       "      <td>1684.307803</td>\n",
       "      <td>0.207697</td>\n",
       "      <td>0.201791</td>\n",
       "      <td>0.327896</td>\n",
       "    </tr>\n",
       "    <tr>\n",
       "      <th>min</th>\n",
       "      <td>0.000000</td>\n",
       "      <td>50.000000</td>\n",
       "      <td>0.000000</td>\n",
       "      <td>0.049513</td>\n",
       "      <td>0.000000</td>\n",
       "      <td>0.000000</td>\n",
       "      <td>0.000000</td>\n",
       "      <td>0.000000</td>\n",
       "      <td>0.000000</td>\n",
       "    </tr>\n",
       "    <tr>\n",
       "      <th>25%</th>\n",
       "      <td>148.095189</td>\n",
       "      <td>1600.000000</td>\n",
       "      <td>0.000000</td>\n",
       "      <td>418.559237</td>\n",
       "      <td>43.367500</td>\n",
       "      <td>0.000000</td>\n",
       "      <td>0.909091</td>\n",
       "      <td>0.000000</td>\n",
       "      <td>0.060000</td>\n",
       "    </tr>\n",
       "    <tr>\n",
       "      <th>50%</th>\n",
       "      <td>916.855459</td>\n",
       "      <td>3000.000000</td>\n",
       "      <td>0.000000</td>\n",
       "      <td>896.675701</td>\n",
       "      <td>375.405000</td>\n",
       "      <td>44.995000</td>\n",
       "      <td>1.000000</td>\n",
       "      <td>0.000000</td>\n",
       "      <td>0.380000</td>\n",
       "    </tr>\n",
       "    <tr>\n",
       "      <th>75%</th>\n",
       "      <td>2105.195853</td>\n",
       "      <td>6500.000000</td>\n",
       "      <td>1132.385490</td>\n",
       "      <td>1951.142090</td>\n",
       "      <td>1145.980000</td>\n",
       "      <td>599.100000</td>\n",
       "      <td>1.000000</td>\n",
       "      <td>0.250000</td>\n",
       "      <td>0.730000</td>\n",
       "    </tr>\n",
       "    <tr>\n",
       "      <th>max</th>\n",
       "      <td>19043.138560</td>\n",
       "      <td>30000.000000</td>\n",
       "      <td>47137.211760</td>\n",
       "      <td>50721.483360</td>\n",
       "      <td>49039.570000</td>\n",
       "      <td>40761.250000</td>\n",
       "      <td>1.000000</td>\n",
       "      <td>1.500000</td>\n",
       "      <td>1.000000</td>\n",
       "    </tr>\n",
       "  </tbody>\n",
       "</table>\n",
       "</div>"
      ],
      "text/plain": [
       "            balance  credit_limit  cash_advance  payments_done     purchases  \\\n",
       "count   8636.000000   8636.000000   8636.000000    8636.000000   8636.000000   \n",
       "mean    1601.224893   4522.091030    994.175523    1784.478099   1025.433874   \n",
       "std     2095.571300   3659.240379   2121.458303    2909.810090   2167.107984   \n",
       "min        0.000000     50.000000      0.000000       0.049513      0.000000   \n",
       "25%      148.095189   1600.000000      0.000000     418.559237     43.367500   \n",
       "50%      916.855459   3000.000000      0.000000     896.675701    375.405000   \n",
       "75%     2105.195853   6500.000000   1132.385490    1951.142090   1145.980000   \n",
       "max    19043.138560  30000.000000  47137.211760   50721.483360  49039.570000   \n",
       "\n",
       "       oneoff_purchases  balance_frequency  cash_advance_frequency  \\\n",
       "count       8636.000000        8636.000000             8636.000000   \n",
       "mean         604.901438           0.895035                0.137604   \n",
       "std         1684.307803           0.207697                0.201791   \n",
       "min            0.000000           0.000000                0.000000   \n",
       "25%            0.000000           0.909091                0.000000   \n",
       "50%           44.995000           1.000000                0.000000   \n",
       "75%          599.100000           1.000000                0.250000   \n",
       "max        40761.250000           1.000000                1.500000   \n",
       "\n",
       "       purchases_freq  \n",
       "count     8636.000000  \n",
       "mean         0.391791  \n",
       "std          0.327896  \n",
       "min          0.000000  \n",
       "25%          0.060000  \n",
       "50%          0.380000  \n",
       "75%          0.730000  \n",
       "max          1.000000  "
      ]
     },
     "execution_count": 68,
     "metadata": {},
     "output_type": "execute_result"
    }
   ],
   "source": [
    "df_selected.describe()"
   ]
  },
  {
   "cell_type": "code",
   "execution_count": 69,
   "metadata": {},
   "outputs": [
    {
     "data": {
      "text/html": [
       "<div>\n",
       "<style scoped>\n",
       "    .dataframe tbody tr th:only-of-type {\n",
       "        vertical-align: middle;\n",
       "    }\n",
       "\n",
       "    .dataframe tbody tr th {\n",
       "        vertical-align: top;\n",
       "    }\n",
       "\n",
       "    .dataframe thead th {\n",
       "        text-align: right;\n",
       "    }\n",
       "</style>\n",
       "<table border=\"1\" class=\"dataframe\">\n",
       "  <thead>\n",
       "    <tr style=\"text-align: right;\">\n",
       "      <th></th>\n",
       "      <th>balance</th>\n",
       "      <th>balance_frequency</th>\n",
       "      <th>purchases</th>\n",
       "      <th>oneoff_purchases</th>\n",
       "      <th>installments_purchases</th>\n",
       "      <th>cash_advance</th>\n",
       "      <th>purchases_frequency</th>\n",
       "      <th>oneoff_purchases_frequency</th>\n",
       "      <th>purchases_installments_frequency</th>\n",
       "      <th>cash_advance_frequency</th>\n",
       "      <th>cash_advance_transactions</th>\n",
       "      <th>purchases_transactions</th>\n",
       "      <th>credit_limit</th>\n",
       "      <th>payments_done</th>\n",
       "      <th>minimum_payments</th>\n",
       "      <th>percent_full_payment</th>\n",
       "      <th>tenure</th>\n",
       "    </tr>\n",
       "  </thead>\n",
       "  <tbody>\n",
       "    <tr>\n",
       "      <th>0</th>\n",
       "      <td>40.900749</td>\n",
       "      <td>0.818182</td>\n",
       "      <td>95.40</td>\n",
       "      <td>0.00</td>\n",
       "      <td>95.40</td>\n",
       "      <td>0.000000</td>\n",
       "      <td>0.166667</td>\n",
       "      <td>0.000000</td>\n",
       "      <td>0.083333</td>\n",
       "      <td>0.000000</td>\n",
       "      <td>0</td>\n",
       "      <td>2</td>\n",
       "      <td>1000.0</td>\n",
       "      <td>201.802084</td>\n",
       "      <td>139.509787</td>\n",
       "      <td>0.000000</td>\n",
       "      <td>12</td>\n",
       "    </tr>\n",
       "    <tr>\n",
       "      <th>1</th>\n",
       "      <td>3202.467416</td>\n",
       "      <td>0.909091</td>\n",
       "      <td>0.00</td>\n",
       "      <td>0.00</td>\n",
       "      <td>0.00</td>\n",
       "      <td>6442.945483</td>\n",
       "      <td>0.000000</td>\n",
       "      <td>0.000000</td>\n",
       "      <td>0.000000</td>\n",
       "      <td>0.250000</td>\n",
       "      <td>4</td>\n",
       "      <td>0</td>\n",
       "      <td>7000.0</td>\n",
       "      <td>4103.032597</td>\n",
       "      <td>1072.340217</td>\n",
       "      <td>0.222222</td>\n",
       "      <td>12</td>\n",
       "    </tr>\n",
       "    <tr>\n",
       "      <th>2</th>\n",
       "      <td>2495.148862</td>\n",
       "      <td>1.000000</td>\n",
       "      <td>773.17</td>\n",
       "      <td>773.17</td>\n",
       "      <td>0.00</td>\n",
       "      <td>0.000000</td>\n",
       "      <td>1.000000</td>\n",
       "      <td>1.000000</td>\n",
       "      <td>0.000000</td>\n",
       "      <td>0.000000</td>\n",
       "      <td>0</td>\n",
       "      <td>12</td>\n",
       "      <td>7500.0</td>\n",
       "      <td>622.066742</td>\n",
       "      <td>627.284787</td>\n",
       "      <td>0.000000</td>\n",
       "      <td>12</td>\n",
       "    </tr>\n",
       "    <tr>\n",
       "      <th>4</th>\n",
       "      <td>817.714335</td>\n",
       "      <td>1.000000</td>\n",
       "      <td>16.00</td>\n",
       "      <td>16.00</td>\n",
       "      <td>0.00</td>\n",
       "      <td>0.000000</td>\n",
       "      <td>0.083333</td>\n",
       "      <td>0.083333</td>\n",
       "      <td>0.000000</td>\n",
       "      <td>0.000000</td>\n",
       "      <td>0</td>\n",
       "      <td>1</td>\n",
       "      <td>1200.0</td>\n",
       "      <td>678.334763</td>\n",
       "      <td>244.791237</td>\n",
       "      <td>0.000000</td>\n",
       "      <td>12</td>\n",
       "    </tr>\n",
       "    <tr>\n",
       "      <th>5</th>\n",
       "      <td>1809.828751</td>\n",
       "      <td>1.000000</td>\n",
       "      <td>1333.28</td>\n",
       "      <td>0.00</td>\n",
       "      <td>1333.28</td>\n",
       "      <td>0.000000</td>\n",
       "      <td>0.666667</td>\n",
       "      <td>0.000000</td>\n",
       "      <td>0.583333</td>\n",
       "      <td>0.000000</td>\n",
       "      <td>0</td>\n",
       "      <td>8</td>\n",
       "      <td>1800.0</td>\n",
       "      <td>1400.057770</td>\n",
       "      <td>2407.246035</td>\n",
       "      <td>0.000000</td>\n",
       "      <td>12</td>\n",
       "    </tr>\n",
       "    <tr>\n",
       "      <th>...</th>\n",
       "      <td>...</td>\n",
       "      <td>...</td>\n",
       "      <td>...</td>\n",
       "      <td>...</td>\n",
       "      <td>...</td>\n",
       "      <td>...</td>\n",
       "      <td>...</td>\n",
       "      <td>...</td>\n",
       "      <td>...</td>\n",
       "      <td>...</td>\n",
       "      <td>...</td>\n",
       "      <td>...</td>\n",
       "      <td>...</td>\n",
       "      <td>...</td>\n",
       "      <td>...</td>\n",
       "      <td>...</td>\n",
       "      <td>...</td>\n",
       "    </tr>\n",
       "    <tr>\n",
       "      <th>8943</th>\n",
       "      <td>5.871712</td>\n",
       "      <td>0.500000</td>\n",
       "      <td>20.90</td>\n",
       "      <td>20.90</td>\n",
       "      <td>0.00</td>\n",
       "      <td>0.000000</td>\n",
       "      <td>0.166667</td>\n",
       "      <td>0.166667</td>\n",
       "      <td>0.000000</td>\n",
       "      <td>0.000000</td>\n",
       "      <td>0</td>\n",
       "      <td>1</td>\n",
       "      <td>500.0</td>\n",
       "      <td>58.644883</td>\n",
       "      <td>43.473717</td>\n",
       "      <td>0.000000</td>\n",
       "      <td>6</td>\n",
       "    </tr>\n",
       "    <tr>\n",
       "      <th>8945</th>\n",
       "      <td>28.493517</td>\n",
       "      <td>1.000000</td>\n",
       "      <td>291.12</td>\n",
       "      <td>0.00</td>\n",
       "      <td>291.12</td>\n",
       "      <td>0.000000</td>\n",
       "      <td>1.000000</td>\n",
       "      <td>0.000000</td>\n",
       "      <td>0.833333</td>\n",
       "      <td>0.000000</td>\n",
       "      <td>0</td>\n",
       "      <td>6</td>\n",
       "      <td>1000.0</td>\n",
       "      <td>325.594462</td>\n",
       "      <td>48.886365</td>\n",
       "      <td>0.500000</td>\n",
       "      <td>6</td>\n",
       "    </tr>\n",
       "    <tr>\n",
       "      <th>8947</th>\n",
       "      <td>23.398673</td>\n",
       "      <td>0.833333</td>\n",
       "      <td>144.40</td>\n",
       "      <td>0.00</td>\n",
       "      <td>144.40</td>\n",
       "      <td>0.000000</td>\n",
       "      <td>0.833333</td>\n",
       "      <td>0.000000</td>\n",
       "      <td>0.666667</td>\n",
       "      <td>0.000000</td>\n",
       "      <td>0</td>\n",
       "      <td>5</td>\n",
       "      <td>1000.0</td>\n",
       "      <td>81.270775</td>\n",
       "      <td>82.418369</td>\n",
       "      <td>0.250000</td>\n",
       "      <td>6</td>\n",
       "    </tr>\n",
       "    <tr>\n",
       "      <th>8948</th>\n",
       "      <td>13.457564</td>\n",
       "      <td>0.833333</td>\n",
       "      <td>0.00</td>\n",
       "      <td>0.00</td>\n",
       "      <td>0.00</td>\n",
       "      <td>36.558778</td>\n",
       "      <td>0.000000</td>\n",
       "      <td>0.000000</td>\n",
       "      <td>0.000000</td>\n",
       "      <td>0.166667</td>\n",
       "      <td>2</td>\n",
       "      <td>0</td>\n",
       "      <td>500.0</td>\n",
       "      <td>52.549959</td>\n",
       "      <td>55.755628</td>\n",
       "      <td>0.250000</td>\n",
       "      <td>6</td>\n",
       "    </tr>\n",
       "    <tr>\n",
       "      <th>8949</th>\n",
       "      <td>372.708075</td>\n",
       "      <td>0.666667</td>\n",
       "      <td>1093.25</td>\n",
       "      <td>1093.25</td>\n",
       "      <td>0.00</td>\n",
       "      <td>127.040008</td>\n",
       "      <td>0.666667</td>\n",
       "      <td>0.666667</td>\n",
       "      <td>0.000000</td>\n",
       "      <td>0.333333</td>\n",
       "      <td>2</td>\n",
       "      <td>23</td>\n",
       "      <td>1200.0</td>\n",
       "      <td>63.165404</td>\n",
       "      <td>88.288956</td>\n",
       "      <td>0.000000</td>\n",
       "      <td>6</td>\n",
       "    </tr>\n",
       "  </tbody>\n",
       "</table>\n",
       "<p>8636 rows × 17 columns</p>\n",
       "</div>"
      ],
      "text/plain": [
       "          balance  balance_frequency  purchases  oneoff_purchases  \\\n",
       "0       40.900749           0.818182      95.40              0.00   \n",
       "1     3202.467416           0.909091       0.00              0.00   \n",
       "2     2495.148862           1.000000     773.17            773.17   \n",
       "4      817.714335           1.000000      16.00             16.00   \n",
       "5     1809.828751           1.000000    1333.28              0.00   \n",
       "...           ...                ...        ...               ...   \n",
       "8943     5.871712           0.500000      20.90             20.90   \n",
       "8945    28.493517           1.000000     291.12              0.00   \n",
       "8947    23.398673           0.833333     144.40              0.00   \n",
       "8948    13.457564           0.833333       0.00              0.00   \n",
       "8949   372.708075           0.666667    1093.25           1093.25   \n",
       "\n",
       "      installments_purchases  cash_advance  purchases_frequency  \\\n",
       "0                      95.40      0.000000             0.166667   \n",
       "1                       0.00   6442.945483             0.000000   \n",
       "2                       0.00      0.000000             1.000000   \n",
       "4                       0.00      0.000000             0.083333   \n",
       "5                    1333.28      0.000000             0.666667   \n",
       "...                      ...           ...                  ...   \n",
       "8943                    0.00      0.000000             0.166667   \n",
       "8945                  291.12      0.000000             1.000000   \n",
       "8947                  144.40      0.000000             0.833333   \n",
       "8948                    0.00     36.558778             0.000000   \n",
       "8949                    0.00    127.040008             0.666667   \n",
       "\n",
       "      oneoff_purchases_frequency  purchases_installments_frequency  \\\n",
       "0                       0.000000                          0.083333   \n",
       "1                       0.000000                          0.000000   \n",
       "2                       1.000000                          0.000000   \n",
       "4                       0.083333                          0.000000   \n",
       "5                       0.000000                          0.583333   \n",
       "...                          ...                               ...   \n",
       "8943                    0.166667                          0.000000   \n",
       "8945                    0.000000                          0.833333   \n",
       "8947                    0.000000                          0.666667   \n",
       "8948                    0.000000                          0.000000   \n",
       "8949                    0.666667                          0.000000   \n",
       "\n",
       "      cash_advance_frequency  cash_advance_transactions  \\\n",
       "0                   0.000000                          0   \n",
       "1                   0.250000                          4   \n",
       "2                   0.000000                          0   \n",
       "4                   0.000000                          0   \n",
       "5                   0.000000                          0   \n",
       "...                      ...                        ...   \n",
       "8943                0.000000                          0   \n",
       "8945                0.000000                          0   \n",
       "8947                0.000000                          0   \n",
       "8948                0.166667                          2   \n",
       "8949                0.333333                          2   \n",
       "\n",
       "      purchases_transactions  credit_limit  payments_done  minimum_payments  \\\n",
       "0                          2        1000.0     201.802084        139.509787   \n",
       "1                          0        7000.0    4103.032597       1072.340217   \n",
       "2                         12        7500.0     622.066742        627.284787   \n",
       "4                          1        1200.0     678.334763        244.791237   \n",
       "5                          8        1800.0    1400.057770       2407.246035   \n",
       "...                      ...           ...            ...               ...   \n",
       "8943                       1         500.0      58.644883         43.473717   \n",
       "8945                       6        1000.0     325.594462         48.886365   \n",
       "8947                       5        1000.0      81.270775         82.418369   \n",
       "8948                       0         500.0      52.549959         55.755628   \n",
       "8949                      23        1200.0      63.165404         88.288956   \n",
       "\n",
       "      percent_full_payment  tenure  \n",
       "0                 0.000000      12  \n",
       "1                 0.222222      12  \n",
       "2                 0.000000      12  \n",
       "4                 0.000000      12  \n",
       "5                 0.000000      12  \n",
       "...                    ...     ...  \n",
       "8943              0.000000       6  \n",
       "8945              0.500000       6  \n",
       "8947              0.250000       6  \n",
       "8948              0.250000       6  \n",
       "8949              0.000000       6  \n",
       "\n",
       "[8636 rows x 17 columns]"
      ]
     },
     "execution_count": 69,
     "metadata": {},
     "output_type": "execute_result"
    }
   ],
   "source": [
    "df"
   ]
  },
  {
   "cell_type": "markdown",
   "metadata": {},
   "source": [
    "#### Data Normalization"
   ]
  },
  {
   "cell_type": "code",
   "execution_count": 70,
   "metadata": {},
   "outputs": [],
   "source": [
    "scaler = StandardScaler()"
   ]
  },
  {
   "cell_type": "code",
   "execution_count": 71,
   "metadata": {},
   "outputs": [],
   "source": [
    "df = scaler.fit_transform(df_selected)"
   ]
  },
  {
   "cell_type": "code",
   "execution_count": 72,
   "metadata": {},
   "outputs": [
    {
     "data": {
      "text/plain": [
       "array([[-0.74462486, -0.96257545, -0.46865549, ..., -0.37004679,\n",
       "        -0.68195251, -0.88994211],\n",
       "       [ 0.76415211,  0.67720406,  2.56855647, ...,  0.06767893,\n",
       "         0.55702219, -1.19493475],\n",
       "       [ 0.42660239,  0.81385235, -0.46865549, ...,  0.50540465,\n",
       "        -0.68195251,  1.09251006],\n",
       "       ...,\n",
       "       [-0.75297728, -0.96257545, -0.46865549, ..., -0.29709491,\n",
       "        -0.68195251,  0.57402257],\n",
       "       [-0.75772142, -1.09922375, -0.45142164, ..., -0.29709491,\n",
       "         0.14403227, -1.19493475],\n",
       "       [-0.58627829, -0.90791614, -0.40876869, ..., -1.09958965,\n",
       "         0.9700121 ,  0.33002846]])"
      ]
     },
     "execution_count": 72,
     "metadata": {},
     "output_type": "execute_result"
    }
   ],
   "source": [
    "df"
   ]
  },
  {
   "cell_type": "markdown",
   "metadata": {},
   "source": [
    "### K-Means Clustering before feature investigation and feature Engineering"
   ]
  },
  {
   "cell_type": "markdown",
   "metadata": {
    "id": "JSPz4WUgK2Xr"
   },
   "source": [
    "Finding optimal Kmeans model"
   ]
  },
  {
   "cell_type": "code",
   "execution_count": 73,
   "metadata": {},
   "outputs": [
    {
     "name": "stdout",
     "output_type": "stream",
     "text": [
      "[330567568120.24396, 221125013992.24475, 176076036789.78604, 152131480368.29462, 131676291636.73138, 116002653940.68192, 104562847816.233, 96702564739.9478, 89871412885.94724, 83941913624.07904, 79272111453.77705, 75760934326.89769, 72483447042.36937, 69601067506.06163, 66761683386.34846, 65009598282.24413, 62239371494.48978, 60163277616.311455, 58393927951.59261]\n"
     ]
    },
    {
     "data": {
      "image/png": "[encoded data removed]",
      "text/plain": [
       "<Figure size 432x288 with 1 Axes>"
      ]
     },
     "metadata": {
      "needs_background": "light"
     },
     "output_type": "display_data"
    }
   ],
   "source": [
    "\"\"\"\n",
    "I will use K-means for clustering the Credit Cards data, i will optmaize to solve two problems\n",
    "\n",
    "1 - find the optimal number of clusters\n",
    "Calculate the error_function for each number of clustering\n",
    "\n",
    "\"\"\"\n",
    "\n",
    "# init a list for the average_error values for each k-value\n",
    "error_value = []\n",
    "\n",
    "\"\"\"\n",
    "pseudo code: proplem 1\n",
    "\n",
    "1 - define the k-values range\n",
    "2 - loop over k -values\n",
    "        3 - calculate the value of error of each k-value\n",
    "4 - plot the error-value with the k-value\n",
    "\n",
    "get the best k value\n",
    "\"\"\"\n",
    "k_values = range(1, 20, 1)\n",
    "\n",
    "for k in k_values:\n",
    "    # fit the algorithm to the data\n",
    "    km_model = KMeans(n_clusters = k)\n",
    "    km_model.fit(df_selected)\n",
    "    \n",
    "    # append the value of the error\n",
    "    error_value.append(km_model.inertia_)\n",
    "    \n",
    "print(error_value)\n",
    "\n",
    "# plot the error function with the k -value\n",
    "plt.plot(k_values, error_value)\n",
    "plt.scatter(k_values, error_value)\n",
    "\n",
    "# plot labels\n",
    "plt.xlabel(\"Number of Clusters\")\n",
    "plt.xlabel(\"Error Function Value\");"
   ]
  },
  {
   "cell_type": "markdown",
   "metadata": {},
   "source": [
    "__The optimal number of cluster is [3] Clusters__"
   ]
  },
  {
   "cell_type": "code",
   "execution_count": 74,
   "metadata": {
    "id": "lq2tpMbIK8OS"
   },
   "outputs": [
    {
     "data": {
      "image/png": "[encoded data removed]",
      "text/plain": [
       "<Figure size 432x288 with 1 Axes>"
      ]
     },
     "metadata": {
      "needs_background": "light"
     },
     "output_type": "display_data"
    }
   ],
   "source": [
    "\"\"\"\n",
    "2- find the optimal random initilization\n",
    "initilize 100 times and get the lowest error_function \n",
    "\"\"\"\n",
    "# init a list for the the models initilizations\n",
    "inits_error_value = []\n",
    "\n",
    "# initilaze the model list to store the models inits\n",
    "models_list = []\n",
    "\n",
    "num_of_inits = range(1, 100, 1)\n",
    "\n",
    "for i in num_of_inits:\n",
    "    # fit the algorithm to the data with k = 3\n",
    "    km_model = KMeans(n_clusters = 3)\n",
    "    km_model.fit(df_selected)\n",
    "    \n",
    "    # append the value of the error and store the model\n",
    "    inits_error_value.append(km_model.inertia_)\n",
    "    models_list.append(km_model)\n",
    "    \n",
    "    \n",
    "#print(inits_error_value)\n",
    "\n",
    "# plot the error function with the init_number\n",
    "plt.plot(num_of_inits, inits_error_value)\n",
    "plt.scatter(num_of_inits, inits_error_value)\n",
    "\n",
    "# plot labels\n",
    "plt.xlabel(\"Number of Initilization Round\")\n",
    "plt.xlabel(\"Error Function Value\");"
   ]
  },
  {
   "cell_type": "code",
   "execution_count": 75,
   "metadata": {},
   "outputs": [
    {
     "data": {
      "text/plain": [
       "count    9.900000e+01\n",
       "mean     1.760773e+11\n",
       "std      1.063703e+06\n",
       "min      1.760756e+11\n",
       "25%      1.760766e+11\n",
       "50%      1.760773e+11\n",
       "75%      1.760785e+11\n",
       "max      1.760785e+11\n",
       "dtype: float64"
      ]
     },
     "execution_count": 75,
     "metadata": {},
     "output_type": "execute_result"
    }
   ],
   "source": [
    "# summary statistics for the inits error values \n",
    "pd.Series(inits_error_value).describe()"
   ]
  },
  {
   "cell_type": "code",
   "execution_count": 76,
   "metadata": {},
   "outputs": [
    {
     "name": "stdout",
     "output_type": "stream",
     "text": [
      "176075614483.51514\n"
     ]
    }
   ],
   "source": [
    "# get the lowest error index\n",
    "index = inits_error_value.index(min(inits_error_value))\n",
    "print(inits_error_value[index])"
   ]
  },
  {
   "cell_type": "code",
   "execution_count": 77,
   "metadata": {},
   "outputs": [
    {
     "name": "stdout",
     "output_type": "stream",
     "text": [
      "0.2761408890884291\n"
     ]
    }
   ],
   "source": [
    "# get the optimal model\n",
    "km_model = models_list[index]\n",
    "# get the silhouette_score\n",
    "print(silhouette_score(df,km_model.predict(df_selected)))"
   ]
  },
  {
   "cell_type": "code",
   "execution_count": 78,
   "metadata": {},
   "outputs": [
    {
     "data": {
      "text/plain": [
       "{'algorithm': 'auto',\n",
       " 'copy_x': True,\n",
       " 'init': 'k-means++',\n",
       " 'max_iter': 300,\n",
       " 'n_clusters': 3,\n",
       " 'n_init': 10,\n",
       " 'n_jobs': 'deprecated',\n",
       " 'precompute_distances': 'deprecated',\n",
       " 'random_state': None,\n",
       " 'tol': 0.0001,\n",
       " 'verbose': 0}"
      ]
     },
     "execution_count": 78,
     "metadata": {},
     "output_type": "execute_result"
    }
   ],
   "source": [
    "km_model.get_params()"
   ]
  },
  {
   "cell_type": "code",
   "execution_count": 79,
   "metadata": {},
   "outputs": [],
   "source": [
    "# investigate clusters count\n",
    "Kmeans_labels = pd.Series(km_model.labels_)"
   ]
  },
  {
   "cell_type": "code",
   "execution_count": 80,
   "metadata": {},
   "outputs": [
    {
     "data": {
      "text/plain": [
       "2    6206\n",
       "0    2298\n",
       "1     132\n",
       "dtype: int64"
      ]
     },
     "execution_count": 80,
     "metadata": {},
     "output_type": "execute_result"
    }
   ],
   "source": [
    "Kmeans_labels.value_counts()"
   ]
  },
  {
   "cell_type": "code",
   "execution_count": 81,
   "metadata": {},
   "outputs": [
    {
     "name": "stderr",
     "output_type": "stream",
     "text": [
      "C:\\Users\\moham\\anaconda3\\lib\\site-packages\\seaborn\\_decorators.py:36: FutureWarning: Pass the following variable as a keyword arg: x. From version 0.12, the only valid positional argument will be `data`, and passing other arguments without an explicit keyword will result in an error or misinterpretation.\n",
      "  warnings.warn(\n"
     ]
    },
    {
     "data": {
      "text/plain": [
       "Text(0, 0.5, 'Count Of The points in each cluster')"
      ]
     },
     "execution_count": 81,
     "metadata": {},
     "output_type": "execute_result"
    },
    {
     "data": {
      "image/png": "[encoded data removed]",
      "text/plain": [
       "<Figure size 1008x576 with 1 Axes>"
      ]
     },
     "metadata": {
      "needs_background": "light"
     },
     "output_type": "display_data"
    }
   ],
   "source": [
    "#plot Count Of The points in each cluster\n",
    "plt.figure(figsize=(14,8))\n",
    "sns.countplot(Kmeans_labels)\n",
    "plt.xlabel(\"clusters\")\n",
    "plt.ylabel(\"Count Of The points in each cluster\")"
   ]
  },
  {
   "cell_type": "markdown",
   "metadata": {
    "id": "_lMAe85vK8wb"
   },
   "source": [
    "### Finding optimal Hierarchal Clustering model"
   ]
  },
  {
   "cell_type": "code",
   "execution_count": 82,
   "metadata": {
    "id": "Va9X5U1ULAqC"
   },
   "outputs": [
    {
     "name": "stdout",
     "output_type": "stream",
     "text": [
      "[0.4122248318615499, 0.417355021709476, 0.36710212347727594, 0.38168523613910926, 0.3918270726130638, 0.3966207558390771, 0.39888867230906877, 0.3776024580631814]\n"
     ]
    }
   ],
   "source": [
    "# find the optimal number of clusters\n",
    "num_cluster= np.arange(2,10)\n",
    "scores=[]\n",
    "for k in num_cluster:\n",
    "    # Build The Model\n",
    "    model = AgglomerativeClustering(n_clusters=k)\n",
    "    #  generate clusters labels\n",
    "    cluster_labels = model.fit_predict(df_selected)\n",
    "    # get its silhouette score and append it to score list\n",
    "    scores.append(silhouette_score(df_selected, cluster_labels))\n",
    "    \n",
    "print(scores)"
   ]
  },
  {
   "cell_type": "code",
   "execution_count": 83,
   "metadata": {},
   "outputs": [],
   "source": [
    "k_scoures = {\"k\" : num_cluster, \"silhouette_score\": scores}\n",
    "k_scoures_df = pd.DataFrame(k_scoures)"
   ]
  },
  {
   "cell_type": "code",
   "execution_count": 84,
   "metadata": {},
   "outputs": [
    {
     "data": {
      "text/html": [
       "<div>\n",
       "<style scoped>\n",
       "    .dataframe tbody tr th:only-of-type {\n",
       "        vertical-align: middle;\n",
       "    }\n",
       "\n",
       "    .dataframe tbody tr th {\n",
       "        vertical-align: top;\n",
       "    }\n",
       "\n",
       "    .dataframe thead th {\n",
       "        text-align: right;\n",
       "    }\n",
       "</style>\n",
       "<table border=\"1\" class=\"dataframe\">\n",
       "  <thead>\n",
       "    <tr style=\"text-align: right;\">\n",
       "      <th></th>\n",
       "      <th>k</th>\n",
       "      <th>silhouette_score</th>\n",
       "    </tr>\n",
       "  </thead>\n",
       "  <tbody>\n",
       "    <tr>\n",
       "      <th>0</th>\n",
       "      <td>2</td>\n",
       "      <td>0.412225</td>\n",
       "    </tr>\n",
       "    <tr>\n",
       "      <th>1</th>\n",
       "      <td>3</td>\n",
       "      <td>0.417355</td>\n",
       "    </tr>\n",
       "    <tr>\n",
       "      <th>2</th>\n",
       "      <td>4</td>\n",
       "      <td>0.367102</td>\n",
       "    </tr>\n",
       "    <tr>\n",
       "      <th>3</th>\n",
       "      <td>5</td>\n",
       "      <td>0.381685</td>\n",
       "    </tr>\n",
       "    <tr>\n",
       "      <th>4</th>\n",
       "      <td>6</td>\n",
       "      <td>0.391827</td>\n",
       "    </tr>\n",
       "    <tr>\n",
       "      <th>5</th>\n",
       "      <td>7</td>\n",
       "      <td>0.396621</td>\n",
       "    </tr>\n",
       "    <tr>\n",
       "      <th>6</th>\n",
       "      <td>8</td>\n",
       "      <td>0.398889</td>\n",
       "    </tr>\n",
       "    <tr>\n",
       "      <th>7</th>\n",
       "      <td>9</td>\n",
       "      <td>0.377602</td>\n",
       "    </tr>\n",
       "  </tbody>\n",
       "</table>\n",
       "</div>"
      ],
      "text/plain": [
       "   k  silhouette_score\n",
       "0  2          0.412225\n",
       "1  3          0.417355\n",
       "2  4          0.367102\n",
       "3  5          0.381685\n",
       "4  6          0.391827\n",
       "5  7          0.396621\n",
       "6  8          0.398889\n",
       "7  9          0.377602"
      ]
     },
     "execution_count": 84,
     "metadata": {},
     "output_type": "execute_result"
    }
   ],
   "source": [
    "k_scoures_df"
   ]
  },
  {
   "cell_type": "code",
   "execution_count": 85,
   "metadata": {},
   "outputs": [
    {
     "ename": "ValueError",
     "evalue": "Could not interpret value `K` for parameter `x`",
     "output_type": "error",
     "traceback": [
      "\u001b[1;31m---------------------------------------------------------------------------\u001b[0m",
      "\u001b[1;31mValueError\u001b[0m                                Traceback (most recent call last)",
      "\u001b[1;32m~\\AppData\\Local\\Temp/ipykernel_8140/4072332748.py\u001b[0m in \u001b[0;36m<module>\u001b[1;34m\u001b[0m\n\u001b[1;32m----> 1\u001b[1;33m \u001b[0msns\u001b[0m\u001b[1;33m.\u001b[0m\u001b[0mscatterplot\u001b[0m\u001b[1;33m(\u001b[0m\u001b[0mdata\u001b[0m \u001b[1;33m=\u001b[0m \u001b[0mk_scoures_df\u001b[0m\u001b[1;33m,\u001b[0m \u001b[0mx\u001b[0m \u001b[1;33m=\u001b[0m \u001b[1;34m\"K\"\u001b[0m\u001b[1;33m,\u001b[0m \u001b[0my\u001b[0m \u001b[1;33m=\u001b[0m \u001b[1;34m\"silhouette_score\"\u001b[0m\u001b[1;33m)\u001b[0m\u001b[1;33m\u001b[0m\u001b[1;33m\u001b[0m\u001b[0m\n\u001b[0m\u001b[0;32m      2\u001b[0m \u001b[0mplt\u001b[0m\u001b[1;33m.\u001b[0m\u001b[0mxlabel\u001b[0m\u001b[1;33m(\u001b[0m\u001b[1;34m\"Number Of clusters\"\u001b[0m\u001b[1;33m)\u001b[0m\u001b[1;33m\u001b[0m\u001b[1;33m\u001b[0m\u001b[0m\n\u001b[0;32m      3\u001b[0m \u001b[0mplt\u001b[0m\u001b[1;33m.\u001b[0m\u001b[0mylabel\u001b[0m\u001b[1;33m(\u001b[0m\u001b[1;34m\"Each number of cluster model silhoutte score\"\u001b[0m\u001b[1;33m)\u001b[0m\u001b[1;33m\u001b[0m\u001b[1;33m\u001b[0m\u001b[0m\n",
      "\u001b[1;32m~\\anaconda3\\lib\\site-packages\\seaborn\\_decorators.py\u001b[0m in \u001b[0;36minner_f\u001b[1;34m(*args, **kwargs)\u001b[0m\n\u001b[0;32m     44\u001b[0m             )\n\u001b[0;32m     45\u001b[0m         \u001b[0mkwargs\u001b[0m\u001b[1;33m.\u001b[0m\u001b[0mupdate\u001b[0m\u001b[1;33m(\u001b[0m\u001b[1;33m{\u001b[0m\u001b[0mk\u001b[0m\u001b[1;33m:\u001b[0m \u001b[0marg\u001b[0m \u001b[1;32mfor\u001b[0m \u001b[0mk\u001b[0m\u001b[1;33m,\u001b[0m \u001b[0marg\u001b[0m \u001b[1;32min\u001b[0m \u001b[0mzip\u001b[0m\u001b[1;33m(\u001b[0m\u001b[0msig\u001b[0m\u001b[1;33m.\u001b[0m\u001b[0mparameters\u001b[0m\u001b[1;33m,\u001b[0m \u001b[0margs\u001b[0m\u001b[1;33m)\u001b[0m\u001b[1;33m}\u001b[0m\u001b[1;33m)\u001b[0m\u001b[1;33m\u001b[0m\u001b[1;33m\u001b[0m\u001b[0m\n\u001b[1;32m---> 46\u001b[1;33m         \u001b[1;32mreturn\u001b[0m \u001b[0mf\u001b[0m\u001b[1;33m(\u001b[0m\u001b[1;33m**\u001b[0m\u001b[0mkwargs\u001b[0m\u001b[1;33m)\u001b[0m\u001b[1;33m\u001b[0m\u001b[1;33m\u001b[0m\u001b[0m\n\u001b[0m\u001b[0;32m     47\u001b[0m     \u001b[1;32mreturn\u001b[0m \u001b[0minner_f\u001b[0m\u001b[1;33m\u001b[0m\u001b[1;33m\u001b[0m\u001b[0m\n\u001b[0;32m     48\u001b[0m \u001b[1;33m\u001b[0m\u001b[0m\n",
      "\u001b[1;32m~\\anaconda3\\lib\\site-packages\\seaborn\\relational.py\u001b[0m in \u001b[0;36mscatterplot\u001b[1;34m(x, y, hue, style, size, data, palette, hue_order, hue_norm, sizes, size_order, size_norm, markers, style_order, x_bins, y_bins, units, estimator, ci, n_boot, alpha, x_jitter, y_jitter, legend, ax, **kwargs)\u001b[0m\n\u001b[0;32m    806\u001b[0m \u001b[1;33m\u001b[0m\u001b[0m\n\u001b[0;32m    807\u001b[0m     \u001b[0mvariables\u001b[0m \u001b[1;33m=\u001b[0m \u001b[0m_ScatterPlotter\u001b[0m\u001b[1;33m.\u001b[0m\u001b[0mget_semantics\u001b[0m\u001b[1;33m(\u001b[0m\u001b[0mlocals\u001b[0m\u001b[1;33m(\u001b[0m\u001b[1;33m)\u001b[0m\u001b[1;33m)\u001b[0m\u001b[1;33m\u001b[0m\u001b[1;33m\u001b[0m\u001b[0m\n\u001b[1;32m--> 808\u001b[1;33m     p = _ScatterPlotter(\n\u001b[0m\u001b[0;32m    809\u001b[0m         \u001b[0mdata\u001b[0m\u001b[1;33m=\u001b[0m\u001b[0mdata\u001b[0m\u001b[1;33m,\u001b[0m \u001b[0mvariables\u001b[0m\u001b[1;33m=\u001b[0m\u001b[0mvariables\u001b[0m\u001b[1;33m,\u001b[0m\u001b[1;33m\u001b[0m\u001b[1;33m\u001b[0m\u001b[0m\n\u001b[0;32m    810\u001b[0m         \u001b[0mx_bins\u001b[0m\u001b[1;33m=\u001b[0m\u001b[0mx_bins\u001b[0m\u001b[1;33m,\u001b[0m \u001b[0my_bins\u001b[0m\u001b[1;33m=\u001b[0m\u001b[0my_bins\u001b[0m\u001b[1;33m,\u001b[0m\u001b[1;33m\u001b[0m\u001b[1;33m\u001b[0m\u001b[0m\n",
      "\u001b[1;32m~\\anaconda3\\lib\\site-packages\\seaborn\\relational.py\u001b[0m in \u001b[0;36m__init__\u001b[1;34m(self, data, variables, x_bins, y_bins, estimator, ci, n_boot, alpha, x_jitter, y_jitter, legend)\u001b[0m\n\u001b[0;32m    585\u001b[0m         )\n\u001b[0;32m    586\u001b[0m \u001b[1;33m\u001b[0m\u001b[0m\n\u001b[1;32m--> 587\u001b[1;33m         \u001b[0msuper\u001b[0m\u001b[1;33m(\u001b[0m\u001b[1;33m)\u001b[0m\u001b[1;33m.\u001b[0m\u001b[0m__init__\u001b[0m\u001b[1;33m(\u001b[0m\u001b[0mdata\u001b[0m\u001b[1;33m=\u001b[0m\u001b[0mdata\u001b[0m\u001b[1;33m,\u001b[0m \u001b[0mvariables\u001b[0m\u001b[1;33m=\u001b[0m\u001b[0mvariables\u001b[0m\u001b[1;33m)\u001b[0m\u001b[1;33m\u001b[0m\u001b[1;33m\u001b[0m\u001b[0m\n\u001b[0m\u001b[0;32m    588\u001b[0m \u001b[1;33m\u001b[0m\u001b[0m\n\u001b[0;32m    589\u001b[0m         \u001b[0mself\u001b[0m\u001b[1;33m.\u001b[0m\u001b[0malpha\u001b[0m \u001b[1;33m=\u001b[0m \u001b[0malpha\u001b[0m\u001b[1;33m\u001b[0m\u001b[1;33m\u001b[0m\u001b[0m\n",
      "\u001b[1;32m~\\anaconda3\\lib\\site-packages\\seaborn\\_core.py\u001b[0m in \u001b[0;36m__init__\u001b[1;34m(self, data, variables)\u001b[0m\n\u001b[0;32m    603\u001b[0m     \u001b[1;32mdef\u001b[0m \u001b[0m__init__\u001b[0m\u001b[1;33m(\u001b[0m\u001b[0mself\u001b[0m\u001b[1;33m,\u001b[0m \u001b[0mdata\u001b[0m\u001b[1;33m=\u001b[0m\u001b[1;32mNone\u001b[0m\u001b[1;33m,\u001b[0m \u001b[0mvariables\u001b[0m\u001b[1;33m=\u001b[0m\u001b[1;33m{\u001b[0m\u001b[1;33m}\u001b[0m\u001b[1;33m)\u001b[0m\u001b[1;33m:\u001b[0m\u001b[1;33m\u001b[0m\u001b[1;33m\u001b[0m\u001b[0m\n\u001b[0;32m    604\u001b[0m \u001b[1;33m\u001b[0m\u001b[0m\n\u001b[1;32m--> 605\u001b[1;33m         \u001b[0mself\u001b[0m\u001b[1;33m.\u001b[0m\u001b[0massign_variables\u001b[0m\u001b[1;33m(\u001b[0m\u001b[0mdata\u001b[0m\u001b[1;33m,\u001b[0m \u001b[0mvariables\u001b[0m\u001b[1;33m)\u001b[0m\u001b[1;33m\u001b[0m\u001b[1;33m\u001b[0m\u001b[0m\n\u001b[0m\u001b[0;32m    606\u001b[0m \u001b[1;33m\u001b[0m\u001b[0m\n\u001b[0;32m    607\u001b[0m         \u001b[1;32mfor\u001b[0m \u001b[0mvar\u001b[0m\u001b[1;33m,\u001b[0m \u001b[0mcls\u001b[0m \u001b[1;32min\u001b[0m \u001b[0mself\u001b[0m\u001b[1;33m.\u001b[0m\u001b[0m_semantic_mappings\u001b[0m\u001b[1;33m.\u001b[0m\u001b[0mitems\u001b[0m\u001b[1;33m(\u001b[0m\u001b[1;33m)\u001b[0m\u001b[1;33m:\u001b[0m\u001b[1;33m\u001b[0m\u001b[1;33m\u001b[0m\u001b[0m\n",
      "\u001b[1;32m~\\anaconda3\\lib\\site-packages\\seaborn\\_core.py\u001b[0m in \u001b[0;36massign_variables\u001b[1;34m(self, data, variables)\u001b[0m\n\u001b[0;32m    666\u001b[0m         \u001b[1;32melse\u001b[0m\u001b[1;33m:\u001b[0m\u001b[1;33m\u001b[0m\u001b[1;33m\u001b[0m\u001b[0m\n\u001b[0;32m    667\u001b[0m             \u001b[0mself\u001b[0m\u001b[1;33m.\u001b[0m\u001b[0minput_format\u001b[0m \u001b[1;33m=\u001b[0m \u001b[1;34m\"long\"\u001b[0m\u001b[1;33m\u001b[0m\u001b[1;33m\u001b[0m\u001b[0m\n\u001b[1;32m--> 668\u001b[1;33m             plot_data, variables = self._assign_variables_longform(\n\u001b[0m\u001b[0;32m    669\u001b[0m                 \u001b[0mdata\u001b[0m\u001b[1;33m,\u001b[0m \u001b[1;33m**\u001b[0m\u001b[0mvariables\u001b[0m\u001b[1;33m,\u001b[0m\u001b[1;33m\u001b[0m\u001b[1;33m\u001b[0m\u001b[0m\n\u001b[0;32m    670\u001b[0m             )\n",
      "\u001b[1;32m~\\anaconda3\\lib\\site-packages\\seaborn\\_core.py\u001b[0m in \u001b[0;36m_assign_variables_longform\u001b[1;34m(self, data, **kwargs)\u001b[0m\n\u001b[0;32m    901\u001b[0m \u001b[1;33m\u001b[0m\u001b[0m\n\u001b[0;32m    902\u001b[0m                 \u001b[0merr\u001b[0m \u001b[1;33m=\u001b[0m \u001b[1;34mf\"Could not interpret value `{val}` for parameter `{key}`\"\u001b[0m\u001b[1;33m\u001b[0m\u001b[1;33m\u001b[0m\u001b[0m\n\u001b[1;32m--> 903\u001b[1;33m                 \u001b[1;32mraise\u001b[0m \u001b[0mValueError\u001b[0m\u001b[1;33m(\u001b[0m\u001b[0merr\u001b[0m\u001b[1;33m)\u001b[0m\u001b[1;33m\u001b[0m\u001b[1;33m\u001b[0m\u001b[0m\n\u001b[0m\u001b[0;32m    904\u001b[0m \u001b[1;33m\u001b[0m\u001b[0m\n\u001b[0;32m    905\u001b[0m             \u001b[1;32melse\u001b[0m\u001b[1;33m:\u001b[0m\u001b[1;33m\u001b[0m\u001b[1;33m\u001b[0m\u001b[0m\n",
      "\u001b[1;31mValueError\u001b[0m: Could not interpret value `K` for parameter `x`"
     ]
    }
   ],
   "source": [
    "sns.scatterplot(data = k_scoures_df, x = \"K\", y = \"silhouette_score\")\n",
    "plt.xlabel(\"Number Of clusters\")\n",
    "plt.ylabel(\"Each number of cluster model silhoutte score\")"
   ]
  },
  {
   "cell_type": "code",
   "execution_count": null,
   "metadata": {},
   "outputs": [],
   "source": [
    "# get the optimal model at k = 3 (3 Clusters)\n",
    "hier_model = AgglomerativeClustering(n_clusters=3)\n",
    "#  generate clusters labels\n",
    "cluster_labels = model.fit_predict(df_selected)\n",
    "# get its silhouette score and append it to score list\n",
    "silhouette_score(df_selected, cluster_labels)"
   ]
  },
  {
   "cell_type": "code",
   "execution_count": null,
   "metadata": {},
   "outputs": [],
   "source": [
    "# investigate clusters count\n",
    "hierical_labels = pd.Series(cluster_labels)"
   ]
  },
  {
   "cell_type": "code",
   "execution_count": null,
   "metadata": {},
   "outputs": [],
   "source": [
    "hierical_labels.value_counts()"
   ]
  },
  {
   "cell_type": "code",
   "execution_count": null,
   "metadata": {},
   "outputs": [],
   "source": [
    "# plot Count Of The points in each cluster\n",
    "plt.figure(figsize=(14,8))\n",
    "sns.countplot(hierical_labels)\n",
    "plt.xlabel(\"clusters\")\n",
    "plt.ylabel(\"Count Of The points in each cluster\")"
   ]
  },
  {
   "cell_type": "markdown",
   "metadata": {
    "id": "wXwVWhKZLBRq"
   },
   "source": [
    "### Finding optimal DBSCAN model "
   ]
  },
  {
   "cell_type": "code",
   "execution_count": null,
   "metadata": {},
   "outputs": [],
   "source": [
    "\"\"\"\n",
    "optmize for the epslion value\n",
    "start at MinPoints = 2 * dims = 2 * 8 = 16\n",
    "Calculate the average distance between each point in the data set and its 16 nearest neighbors (my selected MinPts value).\n",
    "using NearestNeighbors from Scikit-learn \n",
    "\"\"\"\n",
    "# calculate the average distance between each point and its n_neighbors = 18.\n",
    "neighbors = NearestNeighbors(n_neighbors= 18)\n",
    "neighbors_fit = neighbors.fit(df_selected)\n",
    "distances, indices = neighbors_fit.kneighbors(df_selected)\n",
    "\n",
    "# Sort distance values by ascending value and plot\n",
    "distances = np.sort(distances, axis=0)\n",
    "distances = distances[:, 1]\n",
    "distances"
   ]
  },
  {
   "cell_type": "code",
   "execution_count": null,
   "metadata": {},
   "outputs": [],
   "source": [
    "# plot the distence will produce a elbow plot\n",
    "plt.plot(distances)"
   ]
  },
  {
   "cell_type": "code",
   "execution_count": null,
   "metadata": {},
   "outputs": [],
   "source": [
    "# get the value at the point of the elbow\n",
    "plt.plot(distances)\n",
    "plt.ylim(0, 1500)"
   ]
  },
  {
   "cell_type": "markdown",
   "metadata": {},
   "source": [
    "Zooming in on my k-distance plot, it looks like the optimal value for ε is between (800, 900)"
   ]
  },
  {
   "cell_type": "code",
   "execution_count": null,
   "metadata": {},
   "outputs": [],
   "source": [
    "#for epslion in range(800, 900) and Minpoints = 16\n",
    "sihlouette_score = []\n",
    "\n",
    "for eps in np.linspace(800,900,50):\n",
    "    # Create Model\n",
    "    dbscan = DBSCAN(eps=eps,  min_samples=16)\n",
    "    cluster_labels = dbscan.fit_predict(df_selected)\n",
    "\n",
    "    # Log sihlouette score for each epslion value\n",
    "    sihlouette = silhouette_score(df_selected, cluster_labels)\n",
    "\n",
    "    sihlouette_score.append(sihlouette)"
   ]
  },
  {
   "cell_type": "code",
   "execution_count": null,
   "metadata": {},
   "outputs": [],
   "source": [
    "# plot the sihlouette_score and its corresponding epslion value\n",
    "sns.lineplot(x=np.linspace(800,900,50),y=sihlouette_score)\n",
    "plt.ylabel(\"Sihlouette Score\")\n",
    "plt.xlabel(\"Epsilon Value\")"
   ]
  },
  {
   "cell_type": "markdown",
   "metadata": {},
   "source": [
    "Zooming in on my Sihlouette Score plot, it looks like the optimal value for eps is between __883__"
   ]
  },
  {
   "cell_type": "code",
   "execution_count": null,
   "metadata": {
    "id": "AsIFmshgLOZb"
   },
   "outputs": [],
   "source": [
    "\"\"\"\n",
    "optmize for the MinPoints Value\n",
    "start at MinPoints = dims/2 = 4 to MinPoints = 4 * dim = 32\n",
    "Calculate the average distance between each point in the data set and its 16 nearest neighbors (my selected MinPts value).\n",
    "using NearestNeighbors from Scikit-learn \n",
    "\"\"\"\n",
    "\n",
    "# build a dbscan clustering model\n",
    "sihlouette_score_minpoints = []\n",
    "\n",
    "#for minpoints in np.arange(16, 32):\n",
    "for minpoints in np.arange(4,32, 1):\n",
    "\n",
    "    # Create Model\n",
    "    dbscan = DBSCAN(eps= 883 ,  min_samples = minpoints)\n",
    "    cluster_labels = dbscan.fit_predict(df_selected)\n",
    "\n",
    "\n",
    "    # Log sihlouette score for each minpoints value\n",
    "    sihlouettescore = silhouette_score(df_selected, cluster_labels)\n",
    "\n",
    "    sihlouette_score_minpoints.append(sihlouettescore)"
   ]
  },
  {
   "cell_type": "code",
   "execution_count": null,
   "metadata": {},
   "outputs": [],
   "source": [
    "# plot the sihlouette_score and its corresponding minpoints value\n",
    "sns.lineplot(x=np.arange(4,32, 1),y=sihlouette_score_minpoints)\n",
    "plt.ylabel(\"Percentage of Points Classified as Outliers\")\n",
    "plt.xlabel(\"Epsilon Value\")"
   ]
  },
  {
   "cell_type": "markdown",
   "metadata": {},
   "source": [
    "Zooming in on my Sihlouette Score plot, it looks like the optimal value for Minpoints is 10 or 24"
   ]
  },
  {
   "cell_type": "code",
   "execution_count": null,
   "metadata": {},
   "outputs": [],
   "source": [
    "# Choose  eps = 883 and minpoints = 24 that gives highest sihlouette score\n",
    "dbscan = DBSCAN(eps=885,  min_samples=24)\n",
    "cluster_labels = dbscan.fit_predict(df_selected)"
   ]
  },
  {
   "cell_type": "code",
   "execution_count": null,
   "metadata": {},
   "outputs": [],
   "source": [
    "silhouette_score(df_selected, cluster_labels)"
   ]
  },
  {
   "cell_type": "code",
   "execution_count": null,
   "metadata": {},
   "outputs": [],
   "source": [
    "dbscan_labels = pd.Series(cluster_labels)"
   ]
  },
  {
   "cell_type": "code",
   "execution_count": null,
   "metadata": {},
   "outputs": [],
   "source": [
    "dbscan_labels.value_counts()"
   ]
  },
  {
   "cell_type": "code",
   "execution_count": null,
   "metadata": {},
   "outputs": [],
   "source": [
    "# Choose  eps = 883 and minpoints = 10 that gives highest sihlouette score\n",
    "dbscan = DBSCAN(eps=883,  min_samples=10)\n",
    "cluster_labels = dbscan.fit_predict(df_selected)"
   ]
  },
  {
   "cell_type": "code",
   "execution_count": null,
   "metadata": {},
   "outputs": [],
   "source": [
    "silhouette_score(df_selected, cluster_labels)"
   ]
  },
  {
   "cell_type": "code",
   "execution_count": null,
   "metadata": {},
   "outputs": [],
   "source": [
    "dbscan_labels = pd.Series(cluster_labels)"
   ]
  },
  {
   "cell_type": "code",
   "execution_count": null,
   "metadata": {
    "scrolled": true
   },
   "outputs": [],
   "source": [
    "dbscan_labels.value_counts()"
   ]
  },
  {
   "cell_type": "markdown",
   "metadata": {},
   "source": [
    "Desnisty Based Clustering, will not produce clusters, dbscan just make two groups, one group for outliers, and the rest of the data in the second group"
   ]
  },
  {
   "cell_type": "markdown",
   "metadata": {
    "id": "LVpmCzQiLieK"
   },
   "source": [
    "## conclusion\n",
    "### The optimal clustering technique for this dataset\n",
    "1 - KMeans Clustering, gives a resonable number of clusters __3__ and the most coherient clusters with silhouette score of __0.454__\n",
    "\n",
    "2 - Agglomeritive Clustering  gives a resonable number of clusters __3__ with less coherient clusters with silhouette score of __0.417__\n",
    "\n",
    "3 - Desnisty Based Clustering, will not produce clusters, dbscan just make two groups, one group for outliers, and the rest of the data in the second group"
   ]
  }
 ],
 "metadata": {
  "colab": {
   "provenance": []
  },
  "kernelspec": {
   "display_name": "Python 3 (ipykernel)",
   "language": "python",
   "name": "python3"
  },
  "language_info": {
   "codemirror_mode": {
    "name": "ipython",
    "version": 3
   },
   "file_extension": ".py",
   "mimetype": "text/x-python",
   "name": "python",
   "nbconvert_exporter": "python",
   "pygments_lexer": "ipython3",
   "version": "3.9.7"
  }
 },
 "nbformat": 4,
 "nbformat_minor": 1
}
